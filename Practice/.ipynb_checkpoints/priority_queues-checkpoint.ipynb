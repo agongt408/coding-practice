{
 "cells": [
  {
   "cell_type": "code",
   "execution_count": 37,
   "metadata": {},
   "outputs": [],
   "source": [
    "import heapq\n",
    "from queue import Queue"
   ]
  },
  {
   "cell_type": "code",
   "execution_count": 186,
   "metadata": {},
   "outputs": [
    {
     "name": "stdout",
     "output_type": "stream",
     "text": [
      "[30, 29, 28, 27, 26, 25, 24, 23, 22, 21, 20, 19, 18, 17, 16, 15, 14, 13, 12, 11, 10, 9, 8, 7, 6, 5, 4, 3, 2, 1, 0]\n"
     ]
    }
   ],
   "source": [
    "heap = list(range(31))[::-1]\n",
    "print(heap)"
   ]
  },
  {
   "cell_type": "code",
   "execution_count": 187,
   "metadata": {},
   "outputs": [],
   "source": [
    "heapq.heapify(heap)"
   ]
  },
  {
   "cell_type": "code",
   "execution_count": 188,
   "metadata": {},
   "outputs": [
    {
     "data": {
      "text/plain": [
       "[0,\n",
       " 8,\n",
       " 1,\n",
       " 12,\n",
       " 9,\n",
       " 4,\n",
       " 2,\n",
       " 14,\n",
       " 13,\n",
       " 10,\n",
       " 20,\n",
       " 6,\n",
       " 5,\n",
       " 3,\n",
       " 16,\n",
       " 15,\n",
       " 23,\n",
       " 27,\n",
       " 22,\n",
       " 11,\n",
       " 21,\n",
       " 26,\n",
       " 29,\n",
       " 7,\n",
       " 19,\n",
       " 25,\n",
       " 18,\n",
       " 30,\n",
       " 17,\n",
       " 24,\n",
       " 28]"
      ]
     },
     "execution_count": 188,
     "metadata": {},
     "output_type": "execute_result"
    }
   ],
   "source": [
    "heap"
   ]
  },
  {
   "cell_type": "code",
   "execution_count": 189,
   "metadata": {},
   "outputs": [],
   "source": [
    "# for i in range(19, 9, -1):\n",
    "#     heapq.heappush(heap, i)"
   ]
  },
  {
   "cell_type": "code",
   "execution_count": 190,
   "metadata": {},
   "outputs": [],
   "source": [
    "# heap"
   ]
  },
  {
   "cell_type": "code",
   "execution_count": 203,
   "metadata": {},
   "outputs": [],
   "source": [
    "def levelOrderHeap(heap):\n",
    "    result = []\n",
    "    if len(heap) == 0:\n",
    "        return result\n",
    "    \n",
    "    q = Queue()\n",
    "    q.put(0)\n",
    "    \n",
    "    while not q.empty():\n",
    "        n = q.qsize()\n",
    "        tmp = []\n",
    "        for _ in range(n):\n",
    "            i = q.get()\n",
    "#             print(i)\n",
    "            tmp.append(heap[i])\n",
    "            left, right = 2*i + 1, 2*i + 2\n",
    "            if left < len(heap): q.put(left)\n",
    "            if right < len(heap): q.put(right)\n",
    "        result.append(tmp)\n",
    "    return result\n",
    "\n",
    "def heapHeight(heap):\n",
    "    level = 0\n",
    "    i = 0\n",
    "    while i < len(heap):\n",
    "        level += 1\n",
    "        i = 2*i + 1\n",
    "    return level\n",
    "\n",
    "def formatHeap(heap):\n",
    "    height = heapHeight(heap)\n",
    "    tick_width = max([len(str(x)) for x in heap])\n",
    "    arr = []\n",
    "    for i in range(height+1):\n",
    "        arr.append([' '*tick_width for _ in range(2**height)])\n",
    "#     print(arr)\n",
    "    \n",
    "    def printUtil(heap, i, level, arr, height, tick_width):\n",
    "        if level == 0:\n",
    "            x = i - 2**height + 1\n",
    "#             print(x)\n",
    "            return x\n",
    "\n",
    "        levels = levelOrderHeap(heap)\n",
    "        x_left = printUtil(heap, 2*i+1, level-1, arr, height, tick_width)\n",
    "        x_right = printUtil(heap, 2*i+2, level-1, arr, height, tick_width)\n",
    "        x = (x_left + x_right) // 2\n",
    "#         print(x_left, x_right, level, x, i)\n",
    "        if i < len(heap):\n",
    "            s = str(heap[i])\n",
    "            arr[level][x] = s + ' '*(tick_width-len(s))\n",
    "        return x\n",
    "        \n",
    "    printUtil(heap, 0, height, arr, height, tick_width)\n",
    "    arr.reverse()\n",
    "    \n",
    "    for i in range(len(arr)-1):\n",
    "        print(''.join(arr[i]))\n",
    "    return arr"
   ]
  },
  {
   "cell_type": "code",
   "execution_count": 204,
   "metadata": {},
   "outputs": [
    {
     "data": {
      "text/plain": [
       "[[0],\n",
       " [8, 1],\n",
       " [12, 9, 4, 2],\n",
       " [14, 13, 10, 20, 6, 5, 3, 16],\n",
       " [15, 23, 27, 22, 11, 21, 26, 29, 7, 19, 25, 18, 30, 17, 24, 28]]"
      ]
     },
     "execution_count": 204,
     "metadata": {},
     "output_type": "execute_result"
    }
   ],
   "source": [
    "levelOrderHeap(heap)"
   ]
  },
  {
   "cell_type": "code",
   "execution_count": 205,
   "metadata": {},
   "outputs": [
    {
     "data": {
      "text/plain": [
       "5"
      ]
     },
     "execution_count": 205,
     "metadata": {},
     "output_type": "execute_result"
    }
   ],
   "source": [
    "heapHeight(heap)"
   ]
  },
  {
   "cell_type": "code",
   "execution_count": 206,
   "metadata": {},
   "outputs": [
    {
     "name": "stdout",
     "output_type": "stream",
     "text": [
      "                              0                                 \n",
      "              8                               1                 \n",
      "      12              9               4               2         \n",
      "  14      13      10      20      6       5       3       16    \n",
      "15  23  27  22  11  21  26  29  7   19  25  18  30  17  24  28  \n"
     ]
    }
   ],
   "source": [
    "arr = formatHeap(heap)"
   ]
  },
  {
   "cell_type": "code",
   "execution_count": 36,
   "metadata": {},
   "outputs": [
    {
     "name": "stdout",
     "output_type": "stream",
     "text": [
      "0\n",
      "1\n",
      "2\n",
      "3\n",
      "4\n",
      "5\n",
      "6\n",
      "7\n",
      "8\n",
      "9\n",
      "10\n",
      "11\n",
      "12\n",
      "13\n",
      "14\n",
      "15\n",
      "16\n",
      "17\n",
      "18\n",
      "19\n"
     ]
    }
   ],
   "source": [
    "while heap:\n",
    "    print(heapq.heappop(heap))"
   ]
  },
  {
   "cell_type": "code",
   "execution_count": null,
   "metadata": {},
   "outputs": [],
   "source": []
  }
 ],
 "metadata": {
  "kernelspec": {
   "display_name": "Python 3",
   "language": "python",
   "name": "python3"
  },
  "language_info": {
   "codemirror_mode": {
    "name": "ipython",
    "version": 3
   },
   "file_extension": ".py",
   "mimetype": "text/x-python",
   "name": "python",
   "nbconvert_exporter": "python",
   "pygments_lexer": "ipython3",
   "version": "3.8.3"
  }
 },
 "nbformat": 4,
 "nbformat_minor": 4
}
