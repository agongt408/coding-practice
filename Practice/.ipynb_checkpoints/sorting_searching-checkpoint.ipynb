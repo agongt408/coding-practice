{
 "cells": [
  {
   "cell_type": "code",
   "execution_count": 1,
   "metadata": {},
   "outputs": [],
   "source": [
    "from random import shuffle, randint\n",
    "import bisect"
   ]
  },
  {
   "cell_type": "code",
   "execution_count": 2,
   "metadata": {},
   "outputs": [],
   "source": [
    "def getRandomNums(n):\n",
    "    nums = []\n",
    "    for i in range(n):\n",
    "        nums.append(randint(1,n**2))\n",
    "    return nums"
   ]
  },
  {
   "cell_type": "markdown",
   "metadata": {},
   "source": [
    "## QuickSort"
   ]
  },
  {
   "cell_type": "code",
   "execution_count": 3,
   "metadata": {},
   "outputs": [],
   "source": [
    "def quicksort(arr, start, end):\n",
    "    if end - start <= 1:\n",
    "        return\n",
    "    \n",
    "    pivot = arr[start]\n",
    "    i, l, r = start + 1, start, end - 1\n",
    "    while i <= r:\n",
    "        if arr[i] <= pivot:\n",
    "            arr[l] = arr[i]\n",
    "            l += 1\n",
    "            i += 1\n",
    "        else:\n",
    "            arr[r], arr[i] = arr[i], arr[r]\n",
    "            r -= 1\n",
    "            \n",
    "    arr[l] = pivot\n",
    "    quicksort(arr, start, l)\n",
    "    quicksort(arr, l, end)"
   ]
  },
  {
   "cell_type": "code",
   "execution_count": 4,
   "metadata": {},
   "outputs": [],
   "source": [
    "def quicksort2(arr, start, end):\n",
    "    if end - start <= 1:\n",
    "        return\n",
    "    pivot = arr[end-1]\n",
    "    l = start\n",
    "    for i in range(start, end-1):\n",
    "        if arr[i] < pivot:\n",
    "            arr[i], arr[l] = arr[l], arr[i]\n",
    "            l += 1\n",
    "            \n",
    "    arr[end-1], arr[l] = arr[l], arr[end-1]\n",
    "    quicksort2(arr, start, l)\n",
    "    quicksort2(arr, l, end) # Left pointer can be l (instead of l+1), reduces bugs because l+1 may be undefined"
   ]
  },
  {
   "cell_type": "code",
   "execution_count": 120,
   "metadata": {},
   "outputs": [],
   "source": [
    "def quicksort3(nums, start, end):\n",
    "    if end - start <= 1:\n",
    "        return\n",
    "    \n",
    "#     idx = randint(start, end-1)\n",
    "#     nums[idx], nums[end-1] = nums[end-1], nums[idx]\n",
    "    \n",
    "    l = start\n",
    "    for i in range(start, end):\n",
    "        if nums[i] < nums[end-1]:\n",
    "            nums[l], nums[i] = nums[i], nums[l]\n",
    "            l += 1\n",
    "    print(nums[end-1], nums, start, end, l)\n",
    "\n",
    "    nums[l], nums[end-1] = nums[end-1], nums[l]\n",
    "    \n",
    "    quicksort3(nums, start, l)\n",
    "    quicksort3(nums, l, end)"
   ]
  },
  {
   "cell_type": "code",
   "execution_count": 122,
   "metadata": {},
   "outputs": [],
   "source": [
    "def isSorted(nums):\n",
    "    for i in range(len(nums)-1):\n",
    "        if nums[i] > nums[i+1]:\n",
    "            return False\n",
    "    return True"
   ]
  },
  {
   "cell_type": "code",
   "execution_count": 126,
   "metadata": {},
   "outputs": [],
   "source": [
    "nums = list(range(7))\n",
    "shuffle(nums)"
   ]
  },
  {
   "cell_type": "code",
   "execution_count": 127,
   "metadata": {},
   "outputs": [
    {
     "name": "stdout",
     "output_type": "stream",
     "text": [
      "input: [5, 3, 2, 4, 0, 1, 6]\n",
      "0 [5, 3, 2, 4, 6, 1, 0] 0 7 0\n",
      "1 [0, 3, 2, 4, 6, 5, 1] 0 7 1\n",
      "4 [0, 1, 2, 3, 6, 5, 4] 1 7 4\n",
      "3 [0, 1, 2, 3, 4, 5, 6] 1 4 3\n",
      "2 [0, 1, 2, 3, 4, 5, 6] 1 3 2\n",
      "4 [0, 1, 2, 3, 6, 5, 4] 4 7 4\n",
      "5 [0, 1, 2, 3, 4, 6, 5] 4 7 5\n",
      "6 [0, 1, 2, 3, 4, 5, 6] 5 7 6\n",
      "[0, 1, 2, 3, 4, 5, 6]\n",
      "True\n"
     ]
    }
   ],
   "source": [
    "print('input:', nums)\n",
    "quicksort3(nums, 0, len(nums))\n",
    "print(nums)\n",
    "print(isSorted(nums))"
   ]
  },
  {
   "cell_type": "markdown",
   "metadata": {},
   "source": [
    "## Counting Sort"
   ]
  },
  {
   "cell_type": "code",
   "execution_count": 39,
   "metadata": {},
   "outputs": [
    {
     "name": "stdout",
     "output_type": "stream",
     "text": [
      "[3, 9, 4, 10, 6, 1, 6, 6, 10, 2]\n"
     ]
    }
   ],
   "source": [
    "nums = []\n",
    "for _ in range(10):\n",
    "    nums.append(randint(1, 10))\n",
    "print(nums)"
   ]
  },
  {
   "cell_type": "code",
   "execution_count": 35,
   "metadata": {},
   "outputs": [
    {
     "name": "stdout",
     "output_type": "stream",
     "text": [
      "[0, 1, 2, 2, 3, 5, 7, 9, 10]\n"
     ]
    }
   ],
   "source": [
    "count = [0 for _ in range(max(nums)+1)]\n",
    "for i in range(len(nums)):\n",
    "    count[nums[i]] += 1\n",
    "for i in range(1, len(count)):\n",
    "    count[i] += count[i-1]\n",
    "print(count)"
   ]
  },
  {
   "cell_type": "code",
   "execution_count": 36,
   "metadata": {},
   "outputs": [
    {
     "name": "stdout",
     "output_type": "stream",
     "text": [
      "[1, 2, 4, 5, 5, 6, 6, 7, 7, 8]\n"
     ]
    }
   ],
   "source": [
    "sorted_nums = [0 for _ in range(len(nums))]\n",
    "for i in range(len(nums)):\n",
    "    sorted_nums[count[nums[i]]-1] = nums[i]\n",
    "    count[nums[i]] -= 1\n",
    "print(sorted_nums)"
   ]
  },
  {
   "cell_type": "markdown",
   "metadata": {},
   "source": [
    "## Radix Sort"
   ]
  },
  {
   "cell_type": "code",
   "execution_count": 27,
   "metadata": {},
   "outputs": [],
   "source": [
    "def radixsort(nums):\n",
    "    buckets = [[] for _ in range(10)]\n",
    "    k = 1\n",
    "    \n",
    "    while True:\n",
    "        for i in range(len(nums)):\n",
    "            buckets[nums[i]// k % 10].append(nums[i])\n",
    "\n",
    "        counter = 0\n",
    "        for i in range(10):\n",
    "            for j in range(len(buckets[i])):\n",
    "                nums[counter] = buckets[i][j]\n",
    "                counter += 1\n",
    "                \n",
    "            if len(buckets[0]) == len(nums):\n",
    "                return\n",
    "            buckets[i] = []\n",
    "            \n",
    "        print(nums)\n",
    "        k *= 10"
   ]
  },
  {
   "cell_type": "code",
   "execution_count": 26,
   "metadata": {},
   "outputs": [],
   "source": [
    "def radixsort2(nums):\n",
    "    buckets = [[] for _ in range(10)]\n",
    "    k = 1\n",
    "    while True:\n",
    "        for x in nums:\n",
    "            buckets[x // k % 10].append(x)\n",
    "            \n",
    "        count = 0\n",
    "        for i in range(10):\n",
    "            for j in range(len(buckets[i])):\n",
    "                nums[count] = buckets[i][j]\n",
    "                count += 1\n",
    "            if len(nums) == len(buckets[0]):\n",
    "                return\n",
    "                \n",
    "            buckets[i] = []\n",
    "        \n",
    "        k *= 10"
   ]
  },
  {
   "cell_type": "code",
   "execution_count": 27,
   "metadata": {},
   "outputs": [
    {
     "name": "stdout",
     "output_type": "stream",
     "text": [
      "original [87, 46, 18, 44, 72, 76, 21, 5, 17, 68]\n",
      "sorted [5, 17, 18, 21, 44, 46, 68, 72, 76, 87]\n"
     ]
    }
   ],
   "source": [
    "nums = getRandomNums(10)\n",
    "print('original', nums)\n",
    "radixsort2(nums)\n",
    "print('sorted', nums)"
   ]
  },
  {
   "cell_type": "code",
   "execution_count": 27,
   "metadata": {},
   "outputs": [],
   "source": [
    "def isSorted(arr):\n",
    "    for i in range(len(arr)-1):\n",
    "        if arr[i] > arr[i+1]:\n",
    "            return False\n",
    "    return True"
   ]
  },
  {
   "cell_type": "code",
   "execution_count": 28,
   "metadata": {},
   "outputs": [
    {
     "data": {
      "text/plain": [
       "True"
      ]
     },
     "execution_count": 28,
     "metadata": {},
     "output_type": "execute_result"
    }
   ],
   "source": [
    "isSorted(nums)"
   ]
  },
  {
   "cell_type": "markdown",
   "metadata": {},
   "source": [
    "## MergeSort"
   ]
  },
  {
   "cell_type": "code",
   "execution_count": 9,
   "metadata": {},
   "outputs": [],
   "source": [
    "class ListNode:\n",
    "    def __init__(self, val=0, next=None):\n",
    "        self.val = val\n",
    "        self.next = next"
   ]
  },
  {
   "cell_type": "code",
   "execution_count": 10,
   "metadata": {},
   "outputs": [],
   "source": [
    "# def merge2(l1, l2):\n",
    "#     sentinel = ptr = ListNode()\n",
    "#     while l1 and l2:\n",
    "#         if l2.val < l1.val:\n",
    "#             l1, l2 = l2, l1\n",
    "#         ptr.next, ptr, l1 = l1, l1, l1.next\n",
    "    \n",
    "#     ptr.next = l1 or l2\n",
    "#     return sentinel.next\n",
    "\n",
    "# def merge3(l1, l2):\n",
    "#     tail = sentinel = ListNode()\n",
    "#     while(l1 and l2):\n",
    "#         if(l2.val < l1.val): l1,l2 = l2,l1\n",
    "#         tail.next, tail, l1 = l1, l1, l1.next\n",
    "#     tail.next = l1 or l2\n",
    "#     return sentinel.next\n",
    "\n",
    "# def mergesort2(head):\n",
    "#     if head is None or head.next is None:\n",
    "#         return head\n",
    "    \n",
    "#     slow, fast =head, head\n",
    "#     while fast.next is not None and fast.next.next is not None:\n",
    "#         slow = slow.next\n",
    "#         fast = fast.next.next\n",
    "        \n",
    "#     head2 = slow.next\n",
    "#     slow.next = None\n",
    "#     l1 = mergesort2(head)\n",
    "#     l2 = mergesort2(head2)\n",
    "#     return merge2(l1, l2)"
   ]
  },
  {
   "cell_type": "code",
   "execution_count": 11,
   "metadata": {},
   "outputs": [],
   "source": [
    "def merge2(l1, l2):\n",
    "    sentinel = ptr = ListNode()\n",
    "    while l1 and l2:\n",
    "        if l2.val < l1.val:\n",
    "            l1, l2 = l2, l1\n",
    "        ptr.next, ptr, l1 = l1, l1, l1.next\n",
    "    ptr.next = l1 or l2\n",
    "    return sentinel.next\n",
    "\n",
    "def mergesort2(head):\n",
    "    if head is None or head.next is None:\n",
    "        return head\n",
    "    \n",
    "    slow, fast = head, head\n",
    "    while fast.next and fast.next.next:\n",
    "        slow = slow.next\n",
    "        fast = fast.next.next\n",
    "    \n",
    "    head2 = slow.next\n",
    "    slow.next = None\n",
    "    l1 = mergesort2(head)\n",
    "    l2 = mergesort2(head2)\n",
    "    return merge2(l1, l2)"
   ]
  },
  {
   "cell_type": "code",
   "execution_count": 15,
   "metadata": {},
   "outputs": [],
   "source": [
    "def merge3(l1, l2):\n",
    "    sentinel = ptr = ListNode()\n",
    "    while l1 and l2:\n",
    "        if l2.val < l1.val:\n",
    "            l1, l2 = l2, l1\n",
    "        ptr.next, ptr, l1 = l1, l1, l1.next\n",
    "    ptr.next = l1 or l2\n",
    "    return sentinel.next\n",
    "\n",
    "def mergesort3(head):\n",
    "    if head is None or head.next is None:\n",
    "        return head\n",
    "    \n",
    "    slow, fast = head, head\n",
    "    while fast.next and fast.next.next:\n",
    "        slow, fast = slow.next, fast.next.next\n",
    "    head2 = slow.next\n",
    "    slow.next = None\n",
    "    \n",
    "    l1, l2 = mergesort3(head), mergesort3(head2)\n",
    "    return merge3(l1, l2)"
   ]
  },
  {
   "cell_type": "code",
   "execution_count": 16,
   "metadata": {},
   "outputs": [],
   "source": [
    "def isSortedLinkedList(head):\n",
    "    while head and head.next:\n",
    "        if head.val > head.next.val:\n",
    "            return False\n",
    "        head = head.next\n",
    "    return True"
   ]
  },
  {
   "cell_type": "code",
   "execution_count": 17,
   "metadata": {},
   "outputs": [
    {
     "name": "stdout",
     "output_type": "stream",
     "text": [
      "input:\n",
      "16\n",
      "1\n",
      "19\n",
      "9\n",
      "10\n",
      "2\n",
      "14\n",
      "8\n",
      "0\n",
      "11\n",
      "12\n",
      "7\n",
      "5\n",
      "13\n",
      "6\n",
      "17\n",
      "4\n",
      "3\n",
      "15\n",
      "18\n",
      "False\n",
      "result:\n",
      "0\n",
      "1\n",
      "2\n",
      "3\n",
      "4\n",
      "5\n",
      "6\n",
      "7\n",
      "8\n",
      "9\n",
      "10\n",
      "11\n",
      "12\n",
      "13\n",
      "14\n",
      "15\n",
      "16\n",
      "17\n",
      "18\n",
      "19\n",
      "True\n"
     ]
    }
   ],
   "source": [
    "def linked_list(arr):\n",
    "    head = ListNode(arr[0], None)\n",
    "    ptr = head\n",
    "    for x in nums[1:]:\n",
    "        node = ListNode(x, None)\n",
    "        ptr.next = node\n",
    "        ptr = ptr.next\n",
    "    return head\n",
    "\n",
    "def print_linked_list(head):\n",
    "    while head != None:\n",
    "        print(head.val)\n",
    "        head = head.next\n",
    "\n",
    "nums = list(range(20))\n",
    "shuffle(nums)\n",
    "head = linked_list(nums)\n",
    "\n",
    "print('input:')\n",
    "print_linked_list(head)\n",
    "print(isSortedLinkedList(head))\n",
    "\n",
    "print('result:')\n",
    "print_linked_list(mergesort3(head))\n",
    "print(isSortedLinkedList(head))"
   ]
  },
  {
   "cell_type": "markdown",
   "metadata": {},
   "source": [
    "## Reverse Linked List"
   ]
  },
  {
   "cell_type": "code",
   "execution_count": 93,
   "metadata": {},
   "outputs": [],
   "source": [
    "# Three pointer method\n",
    "def reverse(head):\n",
    "    prev, curr = None, head\n",
    "    while curr:\n",
    "        next = curr.next\n",
    "        curr.next = prev\n",
    "        prev = curr\n",
    "        curr = next\n",
    "    return prev"
   ]
  },
  {
   "cell_type": "code",
   "execution_count": 28,
   "metadata": {},
   "outputs": [],
   "source": [
    "def reverse2(head):\n",
    "    prev, curr = None, head\n",
    "    while curr:\n",
    "        next = curr.next\n",
    "        curr.next = prev\n",
    "        prev = curr\n",
    "        curr = next\n",
    "    return prev"
   ]
  },
  {
   "cell_type": "code",
   "execution_count": 29,
   "metadata": {},
   "outputs": [
    {
     "name": "stdout",
     "output_type": "stream",
     "text": [
      "original\n",
      "0\n",
      "1\n",
      "2\n",
      "3\n",
      "4\n",
      "5\n",
      "6\n",
      "7\n",
      "8\n",
      "9\n",
      "10\n",
      "11\n",
      "12\n",
      "13\n",
      "14\n",
      "15\n",
      "16\n",
      "17\n",
      "18\n",
      "19\n",
      "reversed\n",
      "19\n",
      "18\n",
      "17\n",
      "16\n",
      "15\n",
      "14\n",
      "13\n",
      "12\n",
      "11\n",
      "10\n",
      "9\n",
      "8\n",
      "7\n",
      "6\n",
      "5\n",
      "4\n",
      "3\n",
      "2\n",
      "1\n",
      "0\n"
     ]
    }
   ],
   "source": [
    "nums = list(range(20))\n",
    "head = linked_list(nums)\n",
    "print('original')\n",
    "print_linked_list(head)\n",
    "print('reversed')\n",
    "print_linked_list(reverse2(head))"
   ]
  },
  {
   "cell_type": "markdown",
   "metadata": {},
   "source": [
    "## Binary Search"
   ]
  },
  {
   "cell_type": "code",
   "execution_count": 72,
   "metadata": {},
   "outputs": [],
   "source": [
    "# If val is in nums, will find the first match\n",
    "# If val is not in nums, will find the position it should be\n",
    "\n",
    "def binarySearch(nums, val):\n",
    "    l, r = 0, len(nums)-1\n",
    "    while l < r:\n",
    "        print(l,r)\n",
    "        m = (l + r) // 2\n",
    "        # >= the insertion point will be before (to the left of) any existing entries\n",
    "        # > the insertion point will be after (to the right of) any existing entries\n",
    "        if nums[m] >= val:\n",
    "            r = m\n",
    "        else:\n",
    "            l = m + 1\n",
    "    return l\n",
    "\n",
    "def reverseBinarySearch(nums, val):\n",
    "    l, r = 0, len(nums)\n",
    "    while l < r:\n",
    "        m = (l+r) // 2\n",
    "        if nums[m] <= val:\n",
    "            r = m\n",
    "        else:\n",
    "            l = m + 1\n",
    "    return l"
   ]
  },
  {
   "cell_type": "code",
   "execution_count": 102,
   "metadata": {},
   "outputs": [],
   "source": [
    "def binarySearch2(nums, val):\n",
    "    l, r = 0, len(nums)\n",
    "    while l < r:\n",
    "        print(l,r)\n",
    "        m = (l+r) // 2\n",
    "        if nums[m] > val:\n",
    "            r = m\n",
    "        else:\n",
    "            l = m + 1\n",
    "    return l"
   ]
  },
  {
   "cell_type": "code",
   "execution_count": 103,
   "metadata": {},
   "outputs": [],
   "source": [
    "nums = [1,2,2,2,2,2,2,4,4,4,4,4,7]"
   ]
  },
  {
   "cell_type": "code",
   "execution_count": 104,
   "metadata": {},
   "outputs": [
    {
     "data": {
      "text/plain": [
       "13"
      ]
     },
     "execution_count": 104,
     "metadata": {},
     "output_type": "execute_result"
    }
   ],
   "source": [
    "len(nums)"
   ]
  },
  {
   "cell_type": "code",
   "execution_count": 105,
   "metadata": {},
   "outputs": [
    {
     "name": "stdout",
     "output_type": "stream",
     "text": [
      "0 13\n",
      "7 13\n",
      "7 10\n",
      "7 8\n"
     ]
    },
    {
     "data": {
      "text/plain": [
       "7"
      ]
     },
     "execution_count": 105,
     "metadata": {},
     "output_type": "execute_result"
    }
   ],
   "source": [
    "binarySearch2(nums, 2)"
   ]
  },
  {
   "cell_type": "code",
   "execution_count": 70,
   "metadata": {},
   "outputs": [
    {
     "name": "stdout",
     "output_type": "stream",
     "text": [
      "[7, 4, 4, 4, 4, 4, 2, 2, 2, 2, 2, 2, 1]\n"
     ]
    }
   ],
   "source": [
    "reverse_nums = nums[::-1]\n",
    "print(reverse_nums)"
   ]
  },
  {
   "cell_type": "code",
   "execution_count": 73,
   "metadata": {},
   "outputs": [
    {
     "data": {
      "text/plain": [
       "1"
      ]
     },
     "execution_count": 73,
     "metadata": {},
     "output_type": "execute_result"
    }
   ],
   "source": [
    "reverseBinarySearch(reverse_nums, 4)"
   ]
  },
  {
   "cell_type": "code",
   "execution_count": 47,
   "metadata": {},
   "outputs": [],
   "source": [
    "for i in range(len(nums)):\n",
    "    assert binarySearch(nums, nums[i]) == i"
   ]
  },
  {
   "cell_type": "code",
   "execution_count": null,
   "metadata": {},
   "outputs": [],
   "source": [
    "idx = 0\n",
    "for i in range(max(nums)):\n",
    "    if i == nums[idx]:\n",
    "        print(idx)"
   ]
  },
  {
   "cell_type": "code",
   "execution_count": 59,
   "metadata": {},
   "outputs": [],
   "source": [
    "def elementAt(arr, i):\n",
    "    if i < len(arr):\n",
    "        return arr[i]\n",
    "    return -1"
   ]
  },
  {
   "cell_type": "code",
   "execution_count": 78,
   "metadata": {},
   "outputs": [],
   "source": [
    "nums = list(range(10))"
   ]
  },
  {
   "cell_type": "code",
   "execution_count": 61,
   "metadata": {},
   "outputs": [],
   "source": [
    "def getLength(arr):\n",
    "    i = 0\n",
    "    while elementAt(arr, i) >= 0:\n",
    "        i = 2*i+1\n",
    "    \n",
    "    l = i//2\n",
    "    r = i\n",
    "    while l < r:\n",
    "        m = (l+r) // 2\n",
    "        if elementAt(arr, m) == -1:\n",
    "            r = m\n",
    "        else:\n",
    "            l = m+1\n",
    "    return l"
   ]
  },
  {
   "cell_type": "code",
   "execution_count": 90,
   "metadata": {},
   "outputs": [],
   "source": [
    "def binarySearch(nums, x):\n",
    "    l, r = 0, len(nums)\n",
    "    while l < r:\n",
    "        m = (l+r) // 2\n",
    "        if nums[m] >= x:\n",
    "            r = m\n",
    "        else:\n",
    "            l = m+1\n",
    "    return l"
   ]
  },
  {
   "cell_type": "code",
   "execution_count": 91,
   "metadata": {},
   "outputs": [
    {
     "data": {
      "text/plain": [
       "[0, 1, 2, 3, 4, 5, 6, 7, 8, 9]"
      ]
     },
     "execution_count": 91,
     "metadata": {},
     "output_type": "execute_result"
    }
   ],
   "source": [
    "nums"
   ]
  },
  {
   "cell_type": "code",
   "execution_count": 92,
   "metadata": {},
   "outputs": [
    {
     "data": {
      "text/plain": [
       "9"
      ]
     },
     "execution_count": 92,
     "metadata": {},
     "output_type": "execute_result"
    }
   ],
   "source": [
    "binarySearch(nums, 9)"
   ]
  },
  {
   "cell_type": "code",
   "execution_count": 100,
   "metadata": {},
   "outputs": [
    {
     "data": {
      "text/plain": [
       "True"
      ]
     },
     "execution_count": 100,
     "metadata": {},
     "output_type": "execute_result"
    }
   ],
   "source": [
    "\"a\" <= \"a\""
   ]
  },
  {
   "cell_type": "markdown",
   "metadata": {},
   "source": [
    "## Inserting In Order"
   ]
  },
  {
   "cell_type": "code",
   "execution_count": 2,
   "metadata": {},
   "outputs": [],
   "source": [
    "arr = []"
   ]
  },
  {
   "cell_type": "code",
   "execution_count": 9,
   "metadata": {},
   "outputs": [
    {
     "name": "stdout",
     "output_type": "stream",
     "text": [
      "[1, 1, 1, 4]\n"
     ]
    }
   ],
   "source": [
    "bisect.insort(arr, 4)\n",
    "print(arr)"
   ]
  },
  {
   "cell_type": "code",
   "execution_count": null,
   "metadata": {},
   "outputs": [],
   "source": []
  }
 ],
 "metadata": {
  "kernelspec": {
   "display_name": "Python 3",
   "language": "python",
   "name": "python3"
  },
  "language_info": {
   "codemirror_mode": {
    "name": "ipython",
    "version": 3
   },
   "file_extension": ".py",
   "mimetype": "text/x-python",
   "name": "python",
   "nbconvert_exporter": "python",
   "pygments_lexer": "ipython3",
   "version": "3.8.3"
  }
 },
 "nbformat": 4,
 "nbformat_minor": 4
}
