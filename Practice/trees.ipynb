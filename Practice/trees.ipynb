{
 "cells": [
  {
   "cell_type": "code",
   "execution_count": 1,
   "metadata": {},
   "outputs": [],
   "source": [
    "import heapq\n",
    "from random import shuffle, randint\n",
    "import math\n",
    "from queue import Queue"
   ]
  },
  {
   "cell_type": "code",
   "execution_count": 2,
   "metadata": {},
   "outputs": [],
   "source": [
    "class Node:\n",
    "    def __init__(self, val=None, left=None, right=None):\n",
    "        self.val = val\n",
    "        self.left = left\n",
    "        self.right = right"
   ]
  },
  {
   "cell_type": "markdown",
   "metadata": {},
   "source": [
    "## Binary Tree"
   ]
  },
  {
   "cell_type": "code",
   "execution_count": 132,
   "metadata": {},
   "outputs": [
    {
     "name": "stdout",
     "output_type": "stream",
     "text": [
      "[0, 1, 2, 3, 4, 5, 6, 7, 8, 9, 10, 11, 12, 13, 14, 15, 16, 17, 18, 19]\n"
     ]
    }
   ],
   "source": [
    "arr = list(range(20))\n",
    "# shuffle(arr)\n",
    "print(arr)"
   ]
  },
  {
   "cell_type": "code",
   "execution_count": 7,
   "metadata": {},
   "outputs": [],
   "source": [
    "# def dec2bin_str(x):\n",
    "#     if x == 0:\n",
    "#         return [0]\n",
    "    \n",
    "#     arr = []\n",
    "#     while x > 0:\n",
    "#         arr.append(x % 2)\n",
    "#         x //= 2\n",
    "#     return arr[::-1]\n",
    "\n",
    "# def createCompleteBinaryTree(arr):\n",
    "#     root = Node(val=arr[0])\n",
    "#     i = 1\n",
    "#     while i < len(arr):\n",
    "#         parent, node = root, root\n",
    "#         steps = dec2bin_str(i+1)[1:]\n",
    "#     #     print(i, steps, dec2bin_str(i+1))\n",
    "#         for step in steps:\n",
    "#             parent = node\n",
    "#             if step:\n",
    "#                 node = node.right\n",
    "#             else:\n",
    "#                 node = node.left\n",
    "#         if steps[-1] % 2:\n",
    "#             parent.right = Node(val=arr[i])\n",
    "#         else:\n",
    "#             parent.left = Node(val=arr[i])\n",
    "#         i += 1\n",
    "#     return root\n",
    "\n",
    "def createCompleteBinaryTree(arr):\n",
    "    def util(arr, i):\n",
    "        if i >= len(arr):\n",
    "            return None\n",
    "        return Node(arr[i], left=util(arr, 2*i+1), right=util(arr, 2*i+2))\n",
    "    return util(arr, 0)"
   ]
  },
  {
   "cell_type": "code",
   "execution_count": 38,
   "metadata": {},
   "outputs": [],
   "source": [
    "def inorder(root):\n",
    "    arr = []\n",
    "    def util(node):\n",
    "        if node is None:\n",
    "            return\n",
    "        util(node.left)\n",
    "        arr.append(node.val)\n",
    "        util(node.right)\n",
    "    util(root)\n",
    "    return arr\n",
    "    \n",
    "def preorder(root):\n",
    "    arr = []\n",
    "    def util(node):\n",
    "        if node is None:\n",
    "            return\n",
    "        arr.append(node.val)\n",
    "        util(node.left)\n",
    "        util(node.right)\n",
    "    util(root)\n",
    "    return arr\n",
    "\n",
    "def postorder(root):\n",
    "    arr = []\n",
    "    def util(node):\n",
    "        if node is None:\n",
    "            return\n",
    "        util(node.left)\n",
    "        util(node.right)\n",
    "        arr.append(node.val)\n",
    "    util(root)\n",
    "    return arr"
   ]
  },
  {
   "cell_type": "code",
   "execution_count": 80,
   "metadata": {},
   "outputs": [],
   "source": [
    "root = createCompleteBinaryTree(arr)"
   ]
  },
  {
   "cell_type": "code",
   "execution_count": 81,
   "metadata": {},
   "outputs": [
    {
     "name": "stdout",
     "output_type": "stream",
     "text": [
      "[0, 1, 2, 3, 4, 5]\n"
     ]
    }
   ],
   "source": [
    "print(arr)"
   ]
  },
  {
   "cell_type": "code",
   "execution_count": 76,
   "metadata": {},
   "outputs": [],
   "source": [
    "def height(root):\n",
    "    if root is None:\n",
    "        return 0\n",
    "    return max(height(root.left), height(root.right))+1"
   ]
  },
  {
   "cell_type": "code",
   "execution_count": 77,
   "metadata": {},
   "outputs": [
    {
     "data": {
      "text/plain": [
       "5"
      ]
     },
     "execution_count": 77,
     "metadata": {},
     "output_type": "execute_result"
    }
   ],
   "source": [
    "height(root)"
   ]
  },
  {
   "cell_type": "code",
   "execution_count": 46,
   "metadata": {},
   "outputs": [],
   "source": [
    "from queue import Queue\n",
    "\n",
    "def printLevels(root):\n",
    "    q = Queue()\n",
    "    q.put(root)\n",
    "    \n",
    "    result = []\n",
    "    while not q.empty():\n",
    "        n = q.qsize()\n",
    "        tmp = []\n",
    "        for _ in range(n):\n",
    "            node = q.get()\n",
    "            tmp.append(node.val)\n",
    "            if node.left:\n",
    "                q.put(node.left)\n",
    "            if node.right:\n",
    "                q.put(node.right)\n",
    "        result.append(tmp)\n",
    "    return result"
   ]
  },
  {
   "cell_type": "code",
   "execution_count": 47,
   "metadata": {},
   "outputs": [
    {
     "data": {
      "text/plain": [
       "[[0], [1, 2], [3, 4, 5, 6]]"
      ]
     },
     "execution_count": 47,
     "metadata": {},
     "output_type": "execute_result"
    }
   ],
   "source": [
    "printLevels(root)"
   ]
  },
  {
   "cell_type": "code",
   "execution_count": 16,
   "metadata": {},
   "outputs": [],
   "source": [
    "def serialize(root):\n",
    "    arr = []\n",
    "    def util(node, arr):\n",
    "        if node is None:\n",
    "            arr.append('#')\n",
    "            return\n",
    "        arr.append(node.val)\n",
    "        util(node.left, arr)\n",
    "        util(node.right, arr)\n",
    "    util(root, arr)\n",
    "    return arr\n",
    "\n",
    "def deserialize(arr):\n",
    "    def util(arr, i):\n",
    "        if arr[i] == '#':\n",
    "            return None, i\n",
    "        node = Node(val=arr[i])\n",
    "        i += 1\n",
    "        node.left, i = util(arr, i)\n",
    "        i += 1\n",
    "        node.right, i = util(arr, i)\n",
    "        return node, i\n",
    "    root, _ = util(arr, 0)\n",
    "    return root"
   ]
  },
  {
   "cell_type": "code",
   "execution_count": 17,
   "metadata": {},
   "outputs": [],
   "source": [
    "def printLevels2(root):\n",
    "    q = Queue()\n",
    "    q.put(root)\n",
    "    \n",
    "    result = []\n",
    "    while not q.empty():\n",
    "        n = q.qsize()\n",
    "        tmp = []\n",
    "        for _ in range(n):\n",
    "            node = q.get()\n",
    "            tmp.append(node.val)\n",
    "            if node.left:\n",
    "                q.put(node.left)\n",
    "            if node.right:\n",
    "                q.put(node.right)\n",
    "        result.append(tmp)\n",
    "    return result"
   ]
  },
  {
   "cell_type": "code",
   "execution_count": 28,
   "metadata": {},
   "outputs": [],
   "source": [
    "def serialize2(root):\n",
    "    def util(node, arr):\n",
    "        if node is None:\n",
    "            arr.append('#')\n",
    "            return\n",
    "        arr.append(node.val)\n",
    "        util(node.left, arr)\n",
    "        util(node.right, arr)\n",
    "    arr = []\n",
    "    util(root, arr)\n",
    "    return arr\n",
    "\n",
    "def deserialize2(arr):\n",
    "    def util(arr, i):\n",
    "        if arr[i] == '#':\n",
    "            return None, i\n",
    "        node = Node(arr[i])\n",
    "        i += 1\n",
    "        node.left, i = util(arr, i)\n",
    "        i += 1\n",
    "        node.right, i = util(arr, i)\n",
    "        return node, i\n",
    "    root, _ = util(arr, 0)\n",
    "    return root"
   ]
  },
  {
   "cell_type": "code",
   "execution_count": 29,
   "metadata": {},
   "outputs": [
    {
     "data": {
      "text/plain": [
       "[[0],\n",
       " [1, 2],\n",
       " [3, 4, 5, 6],\n",
       " [7, 8, 9, 10, 11, 12, 13, 14],\n",
       " [15, 16, 17, 18, 19]]"
      ]
     },
     "execution_count": 29,
     "metadata": {},
     "output_type": "execute_result"
    }
   ],
   "source": [
    "printLevels2(root)"
   ]
  },
  {
   "cell_type": "code",
   "execution_count": 30,
   "metadata": {},
   "outputs": [
    {
     "name": "stdout",
     "output_type": "stream",
     "text": [
      "[0, 1, 3, 7, 15, '#', '#', 16, '#', '#', 8, 17, '#', '#', 18, '#', '#', 4, 9, 19, '#', '#', '#', 10, '#', '#', 2, 5, 11, '#', '#', 12, '#', '#', 6, 13, '#', '#', 14, '#', '#']\n"
     ]
    }
   ],
   "source": [
    "print(serialize2(root))"
   ]
  },
  {
   "cell_type": "code",
   "execution_count": 31,
   "metadata": {},
   "outputs": [
    {
     "data": {
      "text/plain": [
       "[[0],\n",
       " [1, 2],\n",
       " [3, 4, 5, 6],\n",
       " [7, 8, 9, 10, 11, 12, 13, 14],\n",
       " [15, 16, 17, 18, 19]]"
      ]
     },
     "execution_count": 31,
     "metadata": {},
     "output_type": "execute_result"
    }
   ],
   "source": [
    "printLevels2(deserialize2(serialize2(root)))"
   ]
  },
  {
   "cell_type": "code",
   "execution_count": 32,
   "metadata": {},
   "outputs": [
    {
     "data": {
      "text/plain": [
       "True"
      ]
     },
     "execution_count": 32,
     "metadata": {},
     "output_type": "execute_result"
    }
   ],
   "source": [
    "printLevels2(deserialize2(serialize2(root))) == printLevels2(root)"
   ]
  },
  {
   "cell_type": "code",
   "execution_count": 83,
   "metadata": {},
   "outputs": [
    {
     "data": {
      "text/plain": [
       "[0, 1, 3, 4, 2, 5]"
      ]
     },
     "execution_count": 83,
     "metadata": {},
     "output_type": "execute_result"
    }
   ],
   "source": [
    "preorder(root)"
   ]
  },
  {
   "cell_type": "code",
   "execution_count": 84,
   "metadata": {},
   "outputs": [
    {
     "data": {
      "text/plain": [
       "[3, 1, 4, 0, 5, 2]"
      ]
     },
     "execution_count": 84,
     "metadata": {},
     "output_type": "execute_result"
    }
   ],
   "source": [
    "inorder(root)"
   ]
  },
  {
   "cell_type": "code",
   "execution_count": 112,
   "metadata": {},
   "outputs": [],
   "source": [
    "def deserializeFromInPre(preorder, inorder):\n",
    "    def util(preorder, inorder, l, r, i):\n",
    "        if r == l:\n",
    "            return None, i\n",
    "        \n",
    "        m = l\n",
    "        while m < r:\n",
    "            if inorder[m] == preorder[i]:\n",
    "                break\n",
    "            m += 1\n",
    "            \n",
    "        node = Node(preorder[i])\n",
    "        i += 1\n",
    "        \n",
    "        if r - l > 1:\n",
    "            node.left, i = util(preorder, inorder, l, m, i)        \n",
    "            node.right, i = util(preorder, inorder, m + 1, r, i)\n",
    "        \n",
    "        return node, i\n",
    "    \n",
    "    root, _ = util(preorder, inorder, 0, len(inorder), 0)\n",
    "    return root"
   ]
  },
  {
   "cell_type": "code",
   "execution_count": 124,
   "metadata": {},
   "outputs": [],
   "source": [
    "def deserializeFromInPre2(preorder, inorder):\n",
    "    def util(preorder, inorder, l, r, i):\n",
    "        if l == r:\n",
    "            return None, i\n",
    "        \n",
    "        m = l\n",
    "        while m < r:\n",
    "            if inorder[m] == preorder[i]:\n",
    "                break\n",
    "            m += 1\n",
    "        \n",
    "        node = Node(preorder[i])\n",
    "        i += 1\n",
    "        \n",
    "        if r-l > 1:\n",
    "            node.left, i = util(preorder, inorder, l, m, i)\n",
    "            node.right, i = util(preorder, inorder, m+1, r, i)\n",
    "        return node, i\n",
    "    \n",
    "    root, _ = util(preorder, inorder, 0, len(inorder), 0)\n",
    "    return root"
   ]
  },
  {
   "cell_type": "code",
   "execution_count": 125,
   "metadata": {},
   "outputs": [
    {
     "data": {
      "text/plain": [
       "[[0], [1, 2], [3, 4, 5]]"
      ]
     },
     "execution_count": 125,
     "metadata": {},
     "output_type": "execute_result"
    }
   ],
   "source": [
    "printLevels(deserializeFromInPre2(preorder(root), inorder(root)))"
   ]
  },
  {
   "cell_type": "code",
   "execution_count": 126,
   "metadata": {},
   "outputs": [],
   "source": [
    "root2 = Node(0, left=Node(1,Node(3)), right=Node(2,Node(4), Node(5)))"
   ]
  },
  {
   "cell_type": "code",
   "execution_count": 127,
   "metadata": {},
   "outputs": [
    {
     "data": {
      "text/plain": [
       "[[0], [1, 2], [3, 4, 5]]"
      ]
     },
     "execution_count": 127,
     "metadata": {},
     "output_type": "execute_result"
    }
   ],
   "source": [
    "printLevels(root2)"
   ]
  },
  {
   "cell_type": "code",
   "execution_count": 128,
   "metadata": {},
   "outputs": [
    {
     "data": {
      "text/plain": [
       "[[0], [1, 2], [3, 4, 5]]"
      ]
     },
     "execution_count": 128,
     "metadata": {},
     "output_type": "execute_result"
    }
   ],
   "source": [
    "printLevels(deserializeFromInPre2(preorder(root2), inorder(root2)))"
   ]
  },
  {
   "cell_type": "markdown",
   "metadata": {},
   "source": [
    "## Heaps"
   ]
  },
  {
   "cell_type": "code",
   "execution_count": 141,
   "metadata": {},
   "outputs": [
    {
     "name": "stdout",
     "output_type": "stream",
     "text": [
      "[0, 15, 12, 17, 4, 8, 7, 16, 6, 11, 1, 2, 13, 3, 9, 14, 5, 18, 19, 10]\n"
     ]
    }
   ],
   "source": [
    "shuffle(arr)\n",
    "print(arr)"
   ]
  },
  {
   "cell_type": "code",
   "execution_count": 171,
   "metadata": {},
   "outputs": [],
   "source": [
    "import heapq\n",
    "\n",
    "def kthLargest1(nums, k):\n",
    "    heap = [-x for x in nums]\n",
    "    heapq.heapify(heap)\n",
    "    \n",
    "    result = []\n",
    "    for _ in range(k):\n",
    "        result.append(-heapq.heappop(heap))\n",
    "    return result\n",
    "\n",
    "def kthLargest2(nums, k):\n",
    "    heap = []\n",
    "    \n",
    "    for x in nums:\n",
    "        heapq.heappush(heap, x)\n",
    "        \n",
    "        if len(heap) > k:\n",
    "            heapq.heappop(heap)\n",
    "            \n",
    "    return heap\n",
    "\n",
    "def kthLargest3(nums, k):\n",
    "    def randSplit(nums, start, end):\n",
    "        idx = randint(start, end-1)\n",
    "        nums[idx], nums[end-1] = nums[end-1], nums[idx]\n",
    "        \n",
    "        l = start\n",
    "        for i in range(start, end):\n",
    "            if nums[i] <= nums[end-1]:\n",
    "                nums[l], nums[i] = nums[i], nums[l]\n",
    "                l += 1\n",
    "#         nums[l], nums[end-1] = nums[end-1], nums[l]\n",
    "        return l\n",
    "    \n",
    "    def util(nums, start, end, k):\n",
    "        while True:\n",
    "            l = randSplit(nums, start, end)\n",
    "            ratio = (l-start) / (end-start)\n",
    "            if end-start <= 1 or 0.25 <= ratio < 0.75:\n",
    "                break\n",
    "        print(nums)\n",
    "        if end-l == k:\n",
    "            return nums[l]\n",
    "        elif end-l > k:\n",
    "            return util(nums, l, end, k)\n",
    "        else:\n",
    "            return util(nums, start, l, k-(end-l))\n",
    "        \n",
    "    return util(nums, 0, len(nums), k)"
   ]
  },
  {
   "cell_type": "code",
   "execution_count": 194,
   "metadata": {},
   "outputs": [
    {
     "name": "stdout",
     "output_type": "stream",
     "text": [
      "[7, 3, 1, 0, 2, 5, 6, 4, 8, 12, 16, 14, 15, 10, 13, 11, 18, 19, 9, 17]\n",
      "[7, 3, 1, 0, 2, 5, 6, 4, 8, 9, 14, 12, 10, 13, 11, 15, 18, 19, 17, 16]\n",
      "[7, 3, 1, 0, 2, 5, 6, 4, 8, 9, 14, 12, 10, 13, 11, 15, 16, 17, 18, 19]\n"
     ]
    },
    {
     "data": {
      "text/plain": [
       "18"
      ]
     },
     "execution_count": 194,
     "metadata": {},
     "output_type": "execute_result"
    }
   ],
   "source": [
    "shuffle(arr)\n",
    "kthLargest3(arr, 2)"
   ]
  },
  {
   "cell_type": "code",
   "execution_count": null,
   "metadata": {},
   "outputs": [],
   "source": []
  },
  {
   "cell_type": "code",
   "execution_count": null,
   "metadata": {},
   "outputs": [],
   "source": []
  },
  {
   "cell_type": "code",
   "execution_count": null,
   "metadata": {},
   "outputs": [],
   "source": []
  },
  {
   "cell_type": "code",
   "execution_count": 54,
   "metadata": {},
   "outputs": [],
   "source": [
    "import heapq\n",
    "\n",
    "def kthLargest1(arr, k):\n",
    "    heap = [-x for x in arr]\n",
    "    heapq.heapify(heap)\n",
    "    \n",
    "    result = []\n",
    "    for _ in range(k):\n",
    "        result.append(-heapq.heappop(heap))\n",
    "    return result\n",
    "\n",
    "def kthLargest2(arr, k):\n",
    "    heap = []\n",
    "    for x in arr:\n",
    "        heapq.heappush(heap, x)\n",
    "        if len(heap) > k:\n",
    "            heapq.heappop(heap)\n",
    "    return heap"
   ]
  },
  {
   "cell_type": "code",
   "execution_count": 154,
   "metadata": {},
   "outputs": [
    {
     "data": {
      "text/plain": [
       "15"
      ]
     },
     "execution_count": 154,
     "metadata": {},
     "output_type": "execute_result"
    }
   ],
   "source": [
    "kthLargest3(arr, 5)"
   ]
  },
  {
   "cell_type": "code",
   "execution_count": 106,
   "metadata": {},
   "outputs": [],
   "source": [
    "def kthLargestRand(arr, k):\n",
    "#     print(arr)\n",
    "    def randSplit(arr, start, end):\n",
    "        idx = randint(start, end-1)\n",
    "        arr[idx], arr[end-1] = arr[end-1], arr[idx]\n",
    "        \n",
    "        l = start\n",
    "        for i in range(start, end-1):\n",
    "            if arr[i] < arr[end-1]:\n",
    "                arr[l], arr[i] = arr[i], arr[l]\n",
    "                l += 1\n",
    "        arr[l], arr[end-1] = arr[end-1], arr[l]\n",
    "        return l\n",
    "\n",
    "    while True:\n",
    "        l = randSplit(arr, 0, len(arr))\n",
    "        ratio = l / len(arr)\n",
    "        if len(arr) == 1 or ratio >= 0.25 and ratio < 0.75:\n",
    "            break\n",
    "    \n",
    "    print(len(arr) - l, arr)\n",
    "    if len(arr) - l == k:\n",
    "        return arr[l]\n",
    "    if len(arr) - l > k:\n",
    "        return kthLargestRand(arr[l+1:], k)\n",
    "    else:\n",
    "        return kthLargestRand(arr[:l], k-(len(arr)-l))"
   ]
  },
  {
   "cell_type": "code",
   "execution_count": 157,
   "metadata": {},
   "outputs": [],
   "source": [
    "def getRandSplit(arr, start, end):\n",
    "    idx = randint(start, end-1)\n",
    "    arr[idx], arr[end-1] = arr[end-1], arr[idx]\n",
    "\n",
    "    l = start\n",
    "    for i in range(start, end):\n",
    "        if arr[i] < arr[end-1]:\n",
    "            arr[l] , arr[i] = arr[i], arr[l]\n",
    "            l += 1\n",
    "    return l\n",
    "\n",
    "def kthLargestRand3(arr, start, end, k):\n",
    "    while True:\n",
    "        l = getRandSplit(arr, start, end)\n",
    "        ratio = (l-start) / (end-start)\n",
    "        if end-start <= 1 or ratio >= 0.25 and ratio < 0.75:\n",
    "            break\n",
    "            \n",
    "    if end-l == k:\n",
    "        return arr[l]\n",
    "    elif end - l > k:\n",
    "        return kthLargestRand3(arr, l, end, k)\n",
    "    else:\n",
    "        return kthLargestRand3(arr, start, l, k-(end-l))"
   ]
  },
  {
   "cell_type": "code",
   "execution_count": 165,
   "metadata": {},
   "outputs": [
    {
     "data": {
      "text/plain": [
       "19"
      ]
     },
     "execution_count": 165,
     "metadata": {},
     "output_type": "execute_result"
    }
   ],
   "source": [
    "kthLargestRand3(arr, 0, len(arr), 2)"
   ]
  },
  {
   "cell_type": "code",
   "execution_count": 65,
   "metadata": {},
   "outputs": [
    {
     "name": "stdout",
     "output_type": "stream",
     "text": [
      "[10, 4, 8, 7, 9, 6, 5, 2, 1, 3, 0, 11, 12, 13, 14, 18, 17, 16, 19, 15]\n"
     ]
    }
   ],
   "source": [
    "print(arr)"
   ]
  },
  {
   "cell_type": "code",
   "execution_count": null,
   "metadata": {},
   "outputs": [],
   "source": []
  }
 ],
 "metadata": {
  "kernelspec": {
   "display_name": "Python 3",
   "language": "python",
   "name": "python3"
  },
  "language_info": {
   "codemirror_mode": {
    "name": "ipython",
    "version": 3
   },
   "file_extension": ".py",
   "mimetype": "text/x-python",
   "name": "python",
   "nbconvert_exporter": "python",
   "pygments_lexer": "ipython3",
   "version": "3.8.3"
  }
 },
 "nbformat": 4,
 "nbformat_minor": 4
}
