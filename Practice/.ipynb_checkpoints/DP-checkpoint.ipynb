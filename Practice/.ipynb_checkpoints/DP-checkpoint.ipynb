{
 "cells": [
  {
   "cell_type": "code",
   "execution_count": 1,
   "metadata": {},
   "outputs": [],
   "source": [
    "from random import shuffle, randint\n",
    "nums = list(range(9))\n",
    "shuffle(nums)"
   ]
  },
  {
   "cell_type": "code",
   "execution_count": 18,
   "metadata": {},
   "outputs": [],
   "source": [
    "def isSubstring(s1, s2):\n",
    "    \"\"\"is s1 a substring of s2\"\"\"\n",
    "    \n",
    "    arr = [[False for _ in range(len(s2)+1)] for _ in range(len(s1)+1)]\n",
    "    for i in range(len(s1)+1):\n",
    "        for j in range(len(s2)+1):\n",
    "            if i == 0 or j == 0:\n",
    "                arr[i][j] = i==0\n",
    "            else:\n",
    "                arr[i][j] = arr[i-1][j-1] if s1[i-1] == s2[j-1] else False\n",
    "\n",
    "    return any(arr[-1])"
   ]
  },
  {
   "cell_type": "code",
   "execution_count": 3,
   "metadata": {},
   "outputs": [],
   "source": [
    "def isSubstring2(pat, text):\n",
    "    arr = [[False for _ in range(len(text)+1)] for _ in range(len(pat)+1)]\n",
    "    for i in range(len(pat)+1):\n",
    "        for j in range(len(text)+1):\n",
    "            if i == 0 or j == 0:\n",
    "                arr[i][j] = i == 0\n",
    "            else:\n",
    "                arr[i][j] = arr[i-1][j-1] if pat[i-1] == text[j-1] else False\n",
    "    return arr[-1][-1]"
   ]
  },
  {
   "cell_type": "code",
   "execution_count": 8,
   "metadata": {},
   "outputs": [
    {
     "data": {
      "text/plain": [
       "False"
      ]
     },
     "execution_count": 8,
     "metadata": {},
     "output_type": "execute_result"
    }
   ],
   "source": [
    "isSubstring2(\"ababd\", \"abab\")"
   ]
  },
  {
   "cell_type": "code",
   "execution_count": 19,
   "metadata": {},
   "outputs": [],
   "source": [
    "def knapsack(vals, weights, T):\n",
    "    arr = [[0 for _ in range(T+1)] for _ in range(len(vals)+1)]\n",
    "    for i in range(len(vals)+1):\n",
    "        for j in range(T+1):\n",
    "            if i == 0:\n",
    "                arr[i][j] = 0\n",
    "            else:\n",
    "                arr[i][j] = max(arr[i-1][j], arr[i-1][j-weights[i-1]]+vals[i-1] if weights[i-1] <= j else 0)\n",
    "    print(arr)\n",
    "    return arr[-1][-1]"
   ]
  },
  {
   "cell_type": "code",
   "execution_count": 20,
   "metadata": {},
   "outputs": [],
   "source": [
    "def knapsack2(vals, weights, cap):\n",
    "    arr = [[0 for _ in range(cap+1)] for _ in range(len(vals)+1)]\n",
    "    for i in range(len(vals)+1):\n",
    "        for j in range(cap+1):\n",
    "            if i == 0:\n",
    "                arr[i][j] = 0\n",
    "            else:\n",
    "                arr[i][j] = max(arr[i-1][j], arr[i-1][j-weights[i-1]]+vals[i-1]) if weights[i-1] <= j else arr[i-1][j]\n",
    "    print(arr)\n",
    "    return arr[-1][-1]"
   ]
  },
  {
   "cell_type": "code",
   "execution_count": 22,
   "metadata": {},
   "outputs": [
    {
     "name": "stdout",
     "output_type": "stream",
     "text": [
      "3 [3]\n",
      "0 [0]\n",
      "[[0], [3]]\n",
      "3\n",
      "[[0], [0]]\n",
      "0\n"
     ]
    }
   ],
   "source": [
    "vals = [randint(1, 10) for _ in range(1)]\n",
    "weights = [0 for _ in range(1)]\n",
    "print(sum(vals), vals)\n",
    "print(sum(weights), weights)\n",
    "print(knapsack(vals, weights, 0))\n",
    "print(knapsack2(vals, weights, 0))"
   ]
  },
  {
   "cell_type": "code",
   "execution_count": 22,
   "metadata": {},
   "outputs": [
    {
     "data": {
      "text/plain": [
       "38"
      ]
     },
     "execution_count": 22,
     "metadata": {},
     "output_type": "execute_result"
    }
   ],
   "source": [
    "knapsack2(vals, weights, 20)"
   ]
  },
  {
   "cell_type": "code",
   "execution_count": null,
   "metadata": {},
   "outputs": [],
   "source": []
  },
  {
   "cell_type": "code",
   "execution_count": null,
   "metadata": {},
   "outputs": [],
   "source": []
  },
  {
   "cell_type": "code",
   "execution_count": null,
   "metadata": {},
   "outputs": [],
   "source": []
  },
  {
   "cell_type": "code",
   "execution_count": null,
   "metadata": {},
   "outputs": [],
   "source": []
  },
  {
   "cell_type": "code",
   "execution_count": null,
   "metadata": {},
   "outputs": [],
   "source": []
  }
 ],
 "metadata": {
  "kernelspec": {
   "display_name": "Python 3",
   "language": "python",
   "name": "python3"
  },
  "language_info": {
   "codemirror_mode": {
    "name": "ipython",
    "version": 3
   },
   "file_extension": ".py",
   "mimetype": "text/x-python",
   "name": "python",
   "nbconvert_exporter": "python",
   "pygments_lexer": "ipython3",
   "version": "3.8.3"
  }
 },
 "nbformat": 4,
 "nbformat_minor": 4
}
