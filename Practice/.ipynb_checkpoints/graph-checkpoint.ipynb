{
 "cells": [
  {
   "cell_type": "code",
   "execution_count": 1,
   "metadata": {},
   "outputs": [],
   "source": [
    "from random import randint\n",
    "from collections import defaultdict, namedtuple\n",
    "import math"
   ]
  },
  {
   "cell_type": "code",
   "execution_count": 2,
   "metadata": {},
   "outputs": [],
   "source": [
    "N = 5\n",
    "adj = [[randint(0,1) for _ in range(N)] for _ in range(N)]\n",
    "weights = [[randint(0, 10) if adj[i][j] else 0 for j in range(N)] for i in range(N)]\n",
    "\n",
    "# adj_dict = defaultdict(list)\n",
    "# for i in range(N):\n",
    "#     for j in range(N):\n",
    "#         if adj[i][j]:\n",
    "#             adj_dict[i].append(j)"
   ]
  },
  {
   "cell_type": "code",
   "execution_count": 3,
   "metadata": {},
   "outputs": [
    {
     "data": {
      "text/plain": [
       "[[1, 0, 0, 0, 1],\n",
       " [0, 1, 0, 0, 1],\n",
       " [1, 1, 1, 1, 1],\n",
       " [1, 0, 1, 0, 0],\n",
       " [0, 0, 1, 0, 0]]"
      ]
     },
     "execution_count": 3,
     "metadata": {},
     "output_type": "execute_result"
    }
   ],
   "source": [
    "adj"
   ]
  },
  {
   "cell_type": "code",
   "execution_count": 4,
   "metadata": {},
   "outputs": [
    {
     "data": {
      "text/plain": [
       "[[6, 0, 0, 0, 6],\n",
       " [0, 7, 0, 0, 6],\n",
       " [1, 3, 6, 0, 0],\n",
       " [2, 0, 0, 0, 0],\n",
       " [0, 0, 6, 0, 0]]"
      ]
     },
     "execution_count": 4,
     "metadata": {},
     "output_type": "execute_result"
    }
   ],
   "source": [
    "weights"
   ]
  },
  {
   "cell_type": "markdown",
   "metadata": {},
   "source": [
    "# DFS"
   ]
  },
  {
   "cell_type": "code",
   "execution_count": 21,
   "metadata": {},
   "outputs": [],
   "source": [
    "def dft(adj, start):    \n",
    "    def util(adj, i, visited, arr):\n",
    "        visited[i] = 1\n",
    "        arr.append(i)\n",
    "        for j in range(len(adj)):\n",
    "            if adj[i][j] and not visited[j]:\n",
    "                util(adj, j, visited, arr)\n",
    "                \n",
    "    visited = [0 for _ in range(len(adj))]\n",
    "    arr = []\n",
    "    util(adj, start, visited, arr)\n",
    "    return arr"
   ]
  },
  {
   "cell_type": "code",
   "execution_count": 38,
   "metadata": {},
   "outputs": [],
   "source": [
    "def dfs(adj, start, end):\n",
    "    def util(adj, i, visited, pred, end):\n",
    "        if i == end:\n",
    "            return True\n",
    "        print(i)\n",
    "        visited[i] = 1\n",
    "        \n",
    "        for j in range(len(adj)):\n",
    "            if adj[i][j] and not visited[j]:\n",
    "                found = util(adj, j, visited, pred, end)\n",
    "                pred[j] = i\n",
    "                \n",
    "                if found:\n",
    "                    return True\n",
    "        return False\n",
    "                \n",
    "    visited = [0 for _ in range(len(adj))]\n",
    "    pred = [None for _ in range(len(adj))]\n",
    "    found = util(adj, start, visited, pred, end)\n",
    "    print(pred)\n",
    "    if found:\n",
    "        path = []\n",
    "        ptr = end\n",
    "        while ptr is not None:\n",
    "            path.append(ptr)\n",
    "            ptr = pred[ptr]\n",
    "        path.reverse()\n",
    "        return path\n",
    "    return None"
   ]
  },
  {
   "cell_type": "code",
   "execution_count": 40,
   "metadata": {},
   "outputs": [
    {
     "name": "stdout",
     "output_type": "stream",
     "text": [
      "0\n",
      "4\n",
      "2\n",
      "1\n",
      "[None, 2, 4, 2, 0]\n"
     ]
    },
    {
     "data": {
      "text/plain": [
       "[0, 4, 2, 3]"
      ]
     },
     "execution_count": 40,
     "metadata": {},
     "output_type": "execute_result"
    }
   ],
   "source": [
    "dfs(adj, 0, 3)"
   ]
  },
  {
   "cell_type": "code",
   "execution_count": 18,
   "metadata": {},
   "outputs": [
    {
     "name": "stdout",
     "output_type": "stream",
     "text": [
      "[0, 4, 2, 1, 3]\n"
     ]
    }
   ],
   "source": [
    "print(dfs(adj, 0))"
   ]
  },
  {
   "cell_type": "markdown",
   "metadata": {},
   "source": [
    "# BFS"
   ]
  },
  {
   "cell_type": "code",
   "execution_count": 41,
   "metadata": {},
   "outputs": [],
   "source": [
    "from queue import Queue\n",
    "\n",
    "def bft(adj, start):\n",
    "    result = []\n",
    "    q = Queue()\n",
    "    q.put(start)\n",
    "    visited = [0 for _ in range(len(adj))]\n",
    "    visited[start] = 1\n",
    "    \n",
    "    while not q.empty():\n",
    "        i = q.get()\n",
    "        result.append(i)\n",
    "        \n",
    "        for j,x in enumerate(adj[i]):\n",
    "            if x==1 and visited[j] == 0:\n",
    "                q.put(j)\n",
    "                visited[j] = 1\n",
    "                \n",
    "    return result"
   ]
  },
  {
   "cell_type": "code",
   "execution_count": 47,
   "metadata": {},
   "outputs": [],
   "source": [
    "def bfs(adj, start, end):\n",
    "    q = Queue()\n",
    "    visited = [0 for _ in range(len(adj))]\n",
    "    pred = [None for _ in range(len(adj))]\n",
    "    \n",
    "    q.put(start)\n",
    "    visited[start] = 1\n",
    "    found = False\n",
    "    \n",
    "    while not q.empty():\n",
    "        i = q.get()\n",
    "        \n",
    "        if i == end:\n",
    "            found = True\n",
    "            break\n",
    "        \n",
    "        for j in range(len(adj)):\n",
    "            if adj[i][j] and not visited[j]:\n",
    "                q.put(j)\n",
    "                visited[j] = 1\n",
    "                pred[j] = i\n",
    "                \n",
    "    if found:\n",
    "        path = []\n",
    "        ptr = end\n",
    "        while ptr is not None:\n",
    "            path.append(ptr)\n",
    "            ptr = pred[ptr]\n",
    "        path.reverse()\n",
    "        return path\n",
    "    \n",
    "    return None"
   ]
  },
  {
   "cell_type": "code",
   "execution_count": 51,
   "metadata": {},
   "outputs": [
    {
     "data": {
      "text/plain": [
       "[0, 4, 2, 3]"
      ]
     },
     "execution_count": 51,
     "metadata": {},
     "output_type": "execute_result"
    }
   ],
   "source": [
    "bfs(adj, 0, 3)"
   ]
  },
  {
   "cell_type": "markdown",
   "metadata": {},
   "source": [
    "# Bellman-Ford"
   ]
  },
  {
   "cell_type": "code",
   "execution_count": 70,
   "metadata": {},
   "outputs": [],
   "source": [
    "def bellman_ford(adj, weights, s, t):\n",
    "    arr = [[math.inf for _ in range(len(adj))] for _ in range(len(adj)+1)]\n",
    "    arr[0][t] = 0\n",
    "    nex = [None for _ in range(len(adj))]\n",
    "    \n",
    "    for k in range(1,len(adj)+1):\n",
    "        stabilized = True\n",
    "        for i in range(len(adj)):\n",
    "            arr[k][i] = arr[k-1][i]\n",
    "            for j in range(len(adj)):\n",
    "                if adj[i][j] and weights[i][j] + arr[k-1][j] < arr[k][i]:\n",
    "                    arr[k][i] = weights[i][j] + arr[k-1][j]\n",
    "                    nex[i] = j\n",
    "                    stabilized = False\n",
    "    \n",
    "    if arr[len(adj)-1][s] == math.inf:\n",
    "        print(f'no path from {s} to {t}')\n",
    "        \n",
    "    if not stabilized:\n",
    "        print('there is a cycle')\n",
    "    \n",
    "    path = []\n",
    "    ptr = s\n",
    "    while ptr:\n",
    "        path.append(ptr)\n",
    "        ptr = nex[ptr]\n",
    "    return path"
   ]
  },
  {
   "cell_type": "code",
   "execution_count": 71,
   "metadata": {},
   "outputs": [],
   "source": [
    "def bellman_ford2(adj, weights, s, t):\n",
    "    arr = [math.inf for _ in range(len(adj))]\n",
    "    arr[t] = 0\n",
    "    next_ = [None for _ in range(len(adj))]\n",
    "    \n",
    "    for _ in range(len(adj)):\n",
    "        stabilized = True\n",
    "        for a in range(len(adj)):\n",
    "            for b in range(len(adj)):\n",
    "                if adj[a][b] and weights[a][b] + arr[b] < arr[a]:\n",
    "                    arr[a] = weights[a][b] + arr[b]\n",
    "                    next_[a] = b\n",
    "                    stabilized = False\n",
    "        if stabilized:\n",
    "            break\n",
    "                    \n",
    "    if arr[len(adj)-1][s] == math.inf:\n",
    "        print(f'no path from {s} to {t}')\n",
    "        \n",
    "    if not stabilized:\n",
    "        print('there is a cycle')\n",
    "        \n",
    "    path = []\n",
    "    ptr = s\n",
    "    while ptr:\n",
    "        path.append(ptr)\n",
    "        ptr = next_[ptr]\n",
    "    return path"
   ]
  },
  {
   "cell_type": "code",
   "execution_count": 72,
   "metadata": {},
   "outputs": [
    {
     "data": {
      "text/plain": [
       "[1, 4, 2, 3]"
      ]
     },
     "execution_count": 72,
     "metadata": {},
     "output_type": "execute_result"
    }
   ],
   "source": [
    "bellman_ford(adj, weights, 1, 3)"
   ]
  },
  {
   "cell_type": "code",
   "execution_count": 69,
   "metadata": {},
   "outputs": [
    {
     "data": {
      "text/plain": [
       "[1, 4, 2, 3]"
      ]
     },
     "execution_count": 69,
     "metadata": {},
     "output_type": "execute_result"
    }
   ],
   "source": [
    "bellman_ford2(adj, weights, 1, 3)"
   ]
  },
  {
   "cell_type": "markdown",
   "metadata": {},
   "source": [
    "# Dijkstra"
   ]
  },
  {
   "cell_type": "code",
   "execution_count": 43,
   "metadata": {},
   "outputs": [],
   "source": [
    "def dijkstra(adj, weights, s, t):\n",
    "    val = [0 if i==s else math.inf for i in range(len(adj))]\n",
    "    pred = [0 for _ in range(len(adj))]\n",
    "    visited = [0 for _ in range(len(adj))]\n",
    "    \n",
    "    for _ in range(len(adj)):\n",
    "        min_val = min([val[i] for i in range(len(adj)) if not visited[i]])\n",
    "        i = 0\n",
    "        while i < len(adj) and (visited[i] or val[i] > min_val):\n",
    "            i += 1\n",
    "                    \n",
    "        for j in range(len(adj)):\n",
    "            if adj[i][j] and not visited[j] and min_val + weights[i][j] < val[j]:    \n",
    "                val[j] = min_val + weights[i][j]\n",
    "        visited[i] = 1\n",
    "        \n",
    "    if visited[t]:\n",
    "        path = []\n",
    "        ptr = t\n",
    "        while ptr != s:\n",
    "            path.append(ptr)\n",
    "            ptr = pred[ptr]\n",
    "        path.append(ptr)\n",
    "        path.reverse()\n",
    "        return val[t], path\n",
    "    else:\n",
    "        print(f'no path from {s} to {t}')"
   ]
  },
  {
   "cell_type": "code",
   "execution_count": 80,
   "metadata": {},
   "outputs": [],
   "source": [
    "def dijkstra2(adj, weights, start, end):\n",
    "    val = [math.inf for _ in range(len(adj))]\n",
    "    val[start] = 0\n",
    "    visited = [0 for _ in range(len(adj))]\n",
    "    \n",
    "    pred = [None for _ in range(len(adj))]\n",
    "    found = False\n",
    "    \n",
    "    for _ in range(len(adj)):\n",
    "        l = 0\n",
    "        while visited[l]:\n",
    "            l += 1\n",
    "            \n",
    "        min_i = l\n",
    "        for i in range(l, len(adj)):\n",
    "            if not visited[i] and val[i] < val[min_i]:\n",
    "                min_i = i\n",
    "                \n",
    "        if min_i == end:\n",
    "            found = True\n",
    "        \n",
    "        for j in range(len(adj)):\n",
    "            if adj[min_i][j] and val[min_i] + weights[min_i][j] < val[j]:\n",
    "                val[j] = val[min_i] + weights[min_i][j]\n",
    "                pred[j] = min_i\n",
    "        visited[min_i] = 1\n",
    "        \n",
    "    if found:\n",
    "        path = []\n",
    "        ptr = end\n",
    "        while ptr is not None:\n",
    "            path.append(ptr)\n",
    "            ptr = pred[ptr]\n",
    "        path.reverse()\n",
    "        return path, val[end]\n",
    "    return"
   ]
  },
  {
   "cell_type": "code",
   "execution_count": 81,
   "metadata": {},
   "outputs": [
    {
     "data": {
      "text/plain": [
       "([0, 4], 6)"
      ]
     },
     "execution_count": 81,
     "metadata": {},
     "output_type": "execute_result"
    }
   ],
   "source": [
    "dijkstra2(adj, weights, 0, 4)"
   ]
  },
  {
   "cell_type": "code",
   "execution_count": null,
   "metadata": {},
   "outputs": [],
   "source": []
  }
 ],
 "metadata": {
  "kernelspec": {
   "display_name": "Python 3",
   "language": "python",
   "name": "python3"
  },
  "language_info": {
   "codemirror_mode": {
    "name": "ipython",
    "version": 3
   },
   "file_extension": ".py",
   "mimetype": "text/x-python",
   "name": "python",
   "nbconvert_exporter": "python",
   "pygments_lexer": "ipython3",
   "version": "3.8.3"
  }
 },
 "nbformat": 4,
 "nbformat_minor": 4
}
