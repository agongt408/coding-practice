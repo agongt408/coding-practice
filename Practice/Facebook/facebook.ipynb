{
 "cells": [
  {
   "cell_type": "markdown",
   "metadata": {},
   "source": [
    "# Problem 1"
   ]
  },
  {
   "cell_type": "markdown",
   "metadata": {},
   "source": [
    "Given a string, determine if we can construct a palindrome by removing `k` characters.\n",
    "\n",
    "Example: \n",
    "\n",
    "`abcdba`, `k=1` -> Yes (remove `c` or `d`)\n",
    "\n",
    "`abcdba`, `k=2` -> Yes (remove `c` and `d`)\n",
    "\n",
    "`abcdba`, `k=3` -> Yes (remove `c`, `d`, `b`)\n",
    "\n",
    "Equivalent: What is minimum number of characters we need to remove in order to form palindrome? Is that less than `k`"
   ]
  },
  {
   "cell_type": "code",
   "execution_count": 48,
   "metadata": {},
   "outputs": [],
   "source": [
    "def minRemovePalindrome(s):\n",
    "    def util(s, start, end, arr):\n",
    "        print(start, end)\n",
    "        if arr[start][end] is not None:\n",
    "            return arr[start][end]\n",
    "\n",
    "        if start >= end:\n",
    "            arr[start][end] = 0\n",
    "            return 0\n",
    "\n",
    "        if s[start] == s[end]:\n",
    "            arr[start][end] = util(s, start+1, end-1, arr)\n",
    "        else:\n",
    "            arr[start][end] = min(util(s, start+1, end, arr), util(s, start, end-1, arr)) + 1\n",
    "\n",
    "        return arr[start][end]\n",
    "\n",
    "    arr = [[None for _ in range(len(s))] for _ in range(len(s))]\n",
    "    result = util(s, 0, len(s)-1, arr)\n",
    "    print(arr), print(sum([sum([1 for a in x if a]) for x in arr]))\n",
    "    return result\n",
    "\n",
    "def minRemovePalindrome2(s):\n",
    "    arr = [[0 for _ in range(len(s))] for _ in range(len(s))]\n",
    "    \n",
    "    for i in range(len(s)-2, -1,-1):\n",
    "        for j in range(i+1, len(s)):\n",
    "            if s[i] == s[j]:\n",
    "                arr[i][j] = arr[i+1][j-1]\n",
    "            else:\n",
    "                arr[i][j] = min(arr[i][j-1], arr[i+1][j]) + 1\n",
    "    return arr[0][len(s)-1]"
   ]
  },
  {
   "cell_type": "code",
   "execution_count": 50,
   "metadata": {},
   "outputs": [
    {
     "data": {
      "text/plain": [
       "2"
      ]
     },
     "execution_count": 50,
     "metadata": {},
     "output_type": "execute_result"
    }
   ],
   "source": [
    "minRemovePalindrome2('abacca')"
   ]
  },
  {
   "cell_type": "markdown",
   "metadata": {},
   "source": [
    "# Problem 2"
   ]
  },
  {
   "cell_type": "code",
   "execution_count": 51,
   "metadata": {},
   "outputs": [],
   "source": [
    "class Node:\n",
    "    def __init__(self, val=None, left=None, right=None):\n",
    "        self.val, self.left, self.right = val, left, right"
   ]
  },
  {
   "cell_type": "code",
   "execution_count": 55,
   "metadata": {},
   "outputs": [],
   "source": [
    "def balancedBinaryTree(arr):\n",
    "    def util(arr, start, end):\n",
    "        if start == end:\n",
    "            return None\n",
    "        \n",
    "        m = (start + end) // 2\n",
    "        return Node(val=arr[m], left=util(arr, start, m), right=util(arr, m+1, end))\n",
    "    \n",
    "    return util(arr, 0, len(arr))\n",
    "\n",
    "from queue import Queue\n",
    "def printLevels(root):\n",
    "    q = Queue()\n",
    "    q.put(root)\n",
    "    \n",
    "    result = []\n",
    "    while not q.empty():\n",
    "        n = q.qsize()\n",
    "        tmp = []\n",
    "        for _ in range(n):\n",
    "            node = q.get()\n",
    "            tmp.append(node.val)\n",
    "            if node.left:\n",
    "                q.put(node.left)\n",
    "            if node.right:\n",
    "                q.put(node.right)\n",
    "        result.append(tmp)\n",
    "    return result"
   ]
  },
  {
   "cell_type": "code",
   "execution_count": 62,
   "metadata": {},
   "outputs": [],
   "source": [
    "root = balancedBinaryTree(list(range(15)))"
   ]
  },
  {
   "cell_type": "code",
   "execution_count": 63,
   "metadata": {},
   "outputs": [
    {
     "data": {
      "text/plain": [
       "[[7], [3, 11], [1, 5, 9, 13], [0, 2, 4, 6, 8, 10, 12, 14]]"
      ]
     },
     "execution_count": 63,
     "metadata": {},
     "output_type": "execute_result"
    }
   ],
   "source": [
    "printLevels(root)"
   ]
  },
  {
   "cell_type": "markdown",
   "metadata": {},
   "source": [
    "Given a tree, print the columns. If there is overlap, use the left-most node."
   ]
  },
  {
   "cell_type": "code",
   "execution_count": 60,
   "metadata": {},
   "outputs": [],
   "source": [
    "from collections import defaultdict\n",
    "\n",
    "def printColumns(root):\n",
    "    def height(node):\n",
    "        if node is None:\n",
    "            return 0\n",
    "        return max(height(node.left), height(node.right)) + 1\n",
    "    \n",
    "    def inorder(node, row, col, result):\n",
    "        if node is None:\n",
    "            return\n",
    "        \n",
    "        inorder(node.left, row+1, col-1, result)\n",
    "        if col not in result[row].keys():\n",
    "            result[row][col] = node.val\n",
    "        inorder(node.right, row+1, col+1, result)\n",
    "        \n",
    "    result = [{} for _ in range(height(root))]\n",
    "    inorder(root, 0, 0, result)\n",
    "    return result"
   ]
  },
  {
   "cell_type": "code",
   "execution_count": 64,
   "metadata": {},
   "outputs": [
    {
     "data": {
      "text/plain": [
       "[{0: 7}, {-1: 3, 1: 11}, {-2: 1, 0: 5, 2: 13}, {-3: 0, -1: 2, 1: 6, 3: 14}]"
      ]
     },
     "execution_count": 64,
     "metadata": {},
     "output_type": "execute_result"
    }
   ],
   "source": [
    "printColumns(root)"
   ]
  },
  {
   "cell_type": "code",
   "execution_count": null,
   "metadata": {},
   "outputs": [],
   "source": []
  }
 ],
 "metadata": {
  "kernelspec": {
   "display_name": "Python 3",
   "language": "python",
   "name": "python3"
  },
  "language_info": {
   "codemirror_mode": {
    "name": "ipython",
    "version": 3
   },
   "file_extension": ".py",
   "mimetype": "text/x-python",
   "name": "python",
   "nbconvert_exporter": "python",
   "pygments_lexer": "ipython3",
   "version": "3.8.3"
  }
 },
 "nbformat": 4,
 "nbformat_minor": 4
}
