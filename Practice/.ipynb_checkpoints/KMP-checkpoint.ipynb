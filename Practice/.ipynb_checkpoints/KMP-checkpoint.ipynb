{
 "cells": [
  {
   "cell_type": "code",
   "execution_count": 1,
   "metadata": {},
   "outputs": [],
   "source": [
    "# def preprocessLPS(pat):\n",
    "#     lps = [0 for _ in range(len(pat))]\n",
    "    \n",
    "#     i, l = 1, 0\n",
    "#     while i < len(pat):\n",
    "#         if pat[i] == pat[l]:\n",
    "#             l += 1\n",
    "#             lps[i] = l\n",
    "#             i += 1\n",
    "#         else:\n",
    "#             if l != 0:\n",
    "#                 lps[i] = l-1\n",
    "#                 l -= 1\n",
    "#             else:\n",
    "#                 i += 1\n",
    "#     return lps\n",
    "\n",
    "# def search(pat, text):\n",
    "#     lps = preprocessLPS(pat)\n",
    "    \n",
    "#     i, l = 0, 0\n",
    "#     while i < len(text):\n",
    "#         if text[i] == pat[l]:\n",
    "#             if l == len(pat)-1:\n",
    "#                 return i-l\n",
    "#             l += 1\n",
    "#         else:\n",
    "#             l = lps[l]\n",
    "#         i += 1\n",
    "\n",
    "#     return None"
   ]
  },
  {
   "cell_type": "code",
   "execution_count": 37,
   "metadata": {},
   "outputs": [],
   "source": [
    "def preprocessLPS2(pat):\n",
    "    lps = [0 for _ in range(len(pat))]\n",
    "    \n",
    "    i,l = 1,0\n",
    "    while i < len(pat):\n",
    "#         print(i,l, lps)\n",
    "        if pat[i] == pat[l]:\n",
    "            l += 1\n",
    "            lps[i] = l\n",
    "            i += 1\n",
    "        else:\n",
    "            if l > 0:\n",
    "                l = lps[l-1]\n",
    "            else:\n",
    "                i += 1\n",
    "    return lps\n",
    "\n",
    "def search2(pat, text):\n",
    "    lps = preprocessLPS2(pat)\n",
    "    \n",
    "    i,l = 0,0\n",
    "    while i < len(text):\n",
    "        if pat[l] == text[i]:\n",
    "            l += 1\n",
    "            i += 1\n",
    "            if l == len(pat):\n",
    "                return i-l\n",
    "        else:\n",
    "            if l > 0:\n",
    "                l = lps[l-1]\n",
    "            else:\n",
    "                i += 1\n",
    "    return -1"
   ]
  },
  {
   "cell_type": "code",
   "execution_count": 39,
   "metadata": {},
   "outputs": [],
   "source": [
    "def preprocessLPS3(pat):\n",
    "    lps = [0 for _ in range(len(pat))]\n",
    "    i,l=1,0\n",
    "    while i < len(pat):\n",
    "        if pat[i]== pat[l]:\n",
    "            l += 1\n",
    "            lps[i] = l\n",
    "            i += 1\n",
    "        else:\n",
    "            if l > 0:\n",
    "                l = lps[l-1]\n",
    "            else:\n",
    "                i += 1\n",
    "    return lps\n",
    "\n",
    "def search3(pat, text):\n",
    "    lps = preprocessLPS3(pat)\n",
    "    i,l = 0,0\n",
    "    while i < len(text):\n",
    "        if pat[l] == text[i]:\n",
    "            i += 1\n",
    "            l += 1\n",
    "            if l == len(pat):\n",
    "                return i-l\n",
    "        else:\n",
    "            if l > 0:\n",
    "                l = lps[l-1]\n",
    "            else:\n",
    "                i += 1\n",
    "    return -1"
   ]
  },
  {
   "cell_type": "code",
   "execution_count": 40,
   "metadata": {},
   "outputs": [
    {
     "data": {
      "text/plain": [
       "[0, 1, 2, 0, 1, 2, 3, 3, 3, 4]"
      ]
     },
     "execution_count": 40,
     "metadata": {},
     "output_type": "execute_result"
    }
   ],
   "source": [
    "preprocessLPS3('AAACAAAAAC')"
   ]
  },
  {
   "cell_type": "code",
   "execution_count": 42,
   "metadata": {},
   "outputs": [
    {
     "data": {
      "text/plain": [
       "1"
      ]
     },
     "execution_count": 42,
     "metadata": {},
     "output_type": "execute_result"
    }
   ],
   "source": [
    "search3('AACAAAAAC', 'AAACAAAAACAAACAAAAAC')"
   ]
  },
  {
   "cell_type": "code",
   "execution_count": null,
   "metadata": {},
   "outputs": [],
   "source": []
  }
 ],
 "metadata": {
  "kernelspec": {
   "display_name": "Python 3",
   "language": "python",
   "name": "python3"
  },
  "language_info": {
   "codemirror_mode": {
    "name": "ipython",
    "version": 3
   },
   "file_extension": ".py",
   "mimetype": "text/x-python",
   "name": "python",
   "nbconvert_exporter": "python",
   "pygments_lexer": "ipython3",
   "version": "3.8.3"
  }
 },
 "nbformat": 4,
 "nbformat_minor": 4
}
