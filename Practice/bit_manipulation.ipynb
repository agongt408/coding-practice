{
 "cells": [
  {
   "cell_type": "code",
   "execution_count": 4,
   "metadata": {},
   "outputs": [],
   "source": [
    "import math\n",
    "import copy"
   ]
  },
  {
   "cell_type": "markdown",
   "metadata": {},
   "source": [
    "## Binary / Decimal"
   ]
  },
  {
   "cell_type": "code",
   "execution_count": 5,
   "metadata": {},
   "outputs": [],
   "source": [
    "x = '10'"
   ]
  },
  {
   "cell_type": "code",
   "execution_count": 6,
   "metadata": {},
   "outputs": [
    {
     "data": {
      "text/plain": [
       "2"
      ]
     },
     "execution_count": 6,
     "metadata": {},
     "output_type": "execute_result"
    }
   ],
   "source": [
    "int(x, 2)"
   ]
  },
  {
   "cell_type": "code",
   "execution_count": 9,
   "metadata": {},
   "outputs": [],
   "source": [
    "arr = \"1111\""
   ]
  },
  {
   "cell_type": "code",
   "execution_count": 10,
   "metadata": {},
   "outputs": [
    {
     "data": {
      "text/plain": [
       "15"
      ]
     },
     "execution_count": 10,
     "metadata": {},
     "output_type": "execute_result"
    }
   ],
   "source": [
    "int(arr, 2)"
   ]
  },
  {
   "cell_type": "code",
   "execution_count": 11,
   "metadata": {},
   "outputs": [
    {
     "data": {
      "text/plain": [
       "'0b1111'"
      ]
     },
     "execution_count": 11,
     "metadata": {},
     "output_type": "execute_result"
    }
   ],
   "source": [
    "bin(15)"
   ]
  },
  {
   "cell_type": "code",
   "execution_count": 65,
   "metadata": {},
   "outputs": [],
   "source": [
    "def dec2bin(x):\n",
    "    arr = []\n",
    "    def util(x, arr):\n",
    "        if x > 1:\n",
    "            util(x // 2, arr)\n",
    "        arr.append(x % 2)\n",
    "    util(x, arr)\n",
    "    return arr\n",
    "\n",
    "def dec2bin2(x):\n",
    "    if x == 0:\n",
    "        return [0]\n",
    "    \n",
    "    n_digits = math.floor(math.log(x)/math.log(2)) + 1\n",
    "    arr = []\n",
    "    for i in range(n_digits-1, -1, -1):\n",
    "        arr.append(1 if x & 1<<i else 0)\n",
    "    return arr\n",
    "\n",
    "def bin2dec(arr):\n",
    "    x = 0\n",
    "    for d in arr:\n",
    "        x = 2 * x + d\n",
    "    return x"
   ]
  },
  {
   "cell_type": "code",
   "execution_count": 66,
   "metadata": {},
   "outputs": [],
   "source": [
    "for i in range(10000):\n",
    "    assert '0b'+''.join([str(s) for s in dec2bin2(i)]) == bin(i)\n",
    "    assert bin2dec(dec2bin(i)) == i"
   ]
  },
  {
   "cell_type": "code",
   "execution_count": 29,
   "metadata": {},
   "outputs": [
    {
     "data": {
      "text/plain": [
       "7"
      ]
     },
     "execution_count": 29,
     "metadata": {},
     "output_type": "execute_result"
    }
   ],
   "source": [
    "bin2dec([1,1,1])"
   ]
  },
  {
   "cell_type": "code",
   "execution_count": 37,
   "metadata": {},
   "outputs": [
    {
     "data": {
      "text/plain": [
       "[1, 1, 1]"
      ]
     },
     "execution_count": 37,
     "metadata": {},
     "output_type": "execute_result"
    }
   ],
   "source": [
    "[int(d) for d in bin(7).replace('0b','')]"
   ]
  },
  {
   "cell_type": "code",
   "execution_count": 45,
   "metadata": {},
   "outputs": [
    {
     "data": {
      "text/plain": [
       "1"
      ]
     },
     "execution_count": 45,
     "metadata": {},
     "output_type": "execute_result"
    }
   ],
   "source": [
    "int('0b0001',2)"
   ]
  },
  {
   "cell_type": "code",
   "execution_count": 50,
   "metadata": {},
   "outputs": [
    {
     "data": {
      "text/plain": [
       "0.6931471805599453"
      ]
     },
     "execution_count": 50,
     "metadata": {},
     "output_type": "execute_result"
    }
   ],
   "source": [
    "math.log(2)"
   ]
  },
  {
   "cell_type": "code",
   "execution_count": 72,
   "metadata": {},
   "outputs": [
    {
     "name": "stdout",
     "output_type": "stream",
     "text": [
      "0\n"
     ]
    }
   ],
   "source": [
    "x,i = 3, 0\n",
    "print(~x & 1<< i)"
   ]
  },
  {
   "cell_type": "code",
   "execution_count": 76,
   "metadata": {},
   "outputs": [],
   "source": [
    "x = 0\n",
    "for c in 'hello':\n",
    "    mask = 1 << (ord(c) - ord('a'))\n",
    "    x |= mask"
   ]
  },
  {
   "cell_type": "code",
   "execution_count": 77,
   "metadata": {},
   "outputs": [
    {
     "data": {
      "text/plain": [
       "'0b100100010010000'"
      ]
     },
     "execution_count": 77,
     "metadata": {},
     "output_type": "execute_result"
    }
   ],
   "source": [
    "bin(x)"
   ]
  },
  {
   "cell_type": "markdown",
   "metadata": {},
   "source": [
    "## Permutations"
   ]
  },
  {
   "cell_type": "code",
   "execution_count": 152,
   "metadata": {},
   "outputs": [],
   "source": [
    "def permutations(arr, k):\n",
    "    if k == 0:\n",
    "        return [[],]\n",
    "    \n",
    "    result = []\n",
    "    for i in range(len(arr)):\n",
    "        arr[0], arr[i] = arr[i], arr[0]\n",
    "        for a in permutations(arr[1:], k-1):\n",
    "            result.append([arr[0],] + a)\n",
    "    return result\n",
    "\n",
    "def combinations(arr, k):\n",
    "    if k == 0:\n",
    "        return [[],]\n",
    "    \n",
    "    result = []\n",
    "    for i in range(len(arr) - k+1):\n",
    "        for a in combinations(arr[i+1:], k-1):\n",
    "            result.append([arr[i],] + a)\n",
    "    return result\n",
    "\n",
    "def subsets(arr):\n",
    "    result = []\n",
    "    for n in range(1 << len(arr)):\n",
    "        tmp = []\n",
    "        for i in range(len(arr)):\n",
    "            if n & 1<<i:\n",
    "                tmp.append(arr[i])\n",
    "        result.append(tmp)\n",
    "    return result"
   ]
  },
  {
   "cell_type": "code",
   "execution_count": 29,
   "metadata": {},
   "outputs": [],
   "source": [
    "def permutations2(arr, k):\n",
    "    def util(arr, k):\n",
    "        if k == 0:\n",
    "            return [[],]\n",
    "        \n",
    "        result = []\n",
    "        for i in range(len(arr)):\n",
    "            arr[0], arr[i] = arr[i], arr[0]\n",
    "            perms = util(arr[1:],k-1)\n",
    "            for p in perms:\n",
    "                result.append([arr[0],] + p)\n",
    "        return result\n",
    "    \n",
    "    return util(arr, k) if k > 0 else []\n",
    "\n",
    "def combinations2(arr, k):\n",
    "    def util(arr, k):\n",
    "        if k == 0:\n",
    "            return [[],]\n",
    "\n",
    "        result = []\n",
    "        for i in range(len(arr)-k+1):\n",
    "            for c in util(arr[i+1:], k-1):\n",
    "                result.append([arr[i],] + c)            \n",
    "        return result\n",
    "    \n",
    "    return util(arr, k)\n",
    "\n",
    "def subsets2(arr):\n",
    "    result = []\n",
    "    for n in range(1<<len(arr)):\n",
    "        tmp = []\n",
    "        for i in range(len(arr)):\n",
    "            if n & 1<<i:\n",
    "                tmp.append(arr[i])\n",
    "        result.append(tmp)\n",
    "    return result"
   ]
  },
  {
   "cell_type": "code",
   "execution_count": 30,
   "metadata": {},
   "outputs": [],
   "source": [
    "arr = list(range(10))"
   ]
  },
  {
   "cell_type": "code",
   "execution_count": 31,
   "metadata": {},
   "outputs": [
    {
     "data": {
      "text/plain": [
       "12"
      ]
     },
     "execution_count": 31,
     "metadata": {},
     "output_type": "execute_result"
    }
   ],
   "source": [
    "import copy\n",
    "len(permutations2([1,2,3,4], 2))"
   ]
  },
  {
   "cell_type": "code",
   "execution_count": 32,
   "metadata": {},
   "outputs": [
    {
     "data": {
      "text/plain": [
       "45"
      ]
     },
     "execution_count": 32,
     "metadata": {},
     "output_type": "execute_result"
    }
   ],
   "source": [
    "len(combinations2(copy.copy(arr), 2))"
   ]
  },
  {
   "cell_type": "code",
   "execution_count": 33,
   "metadata": {},
   "outputs": [
    {
     "data": {
      "text/plain": [
       "1024"
      ]
     },
     "execution_count": 33,
     "metadata": {},
     "output_type": "execute_result"
    }
   ],
   "source": [
    "len(subsets2(arr))"
   ]
  },
  {
   "cell_type": "code",
   "execution_count": null,
   "metadata": {},
   "outputs": [],
   "source": []
  }
 ],
 "metadata": {
  "kernelspec": {
   "display_name": "Python 3",
   "language": "python",
   "name": "python3"
  },
  "language_info": {
   "codemirror_mode": {
    "name": "ipython",
    "version": 3
   },
   "file_extension": ".py",
   "mimetype": "text/x-python",
   "name": "python",
   "nbconvert_exporter": "python",
   "pygments_lexer": "ipython3",
   "version": "3.8.3"
  }
 },
 "nbformat": 4,
 "nbformat_minor": 4
}
