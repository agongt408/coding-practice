{
 "cells": [
  {
   "cell_type": "code",
   "execution_count": 2,
   "metadata": {},
   "outputs": [],
   "source": [
    "from random import shuffle, randint\n",
    "import math\n",
    "from queue import Queue"
   ]
  },
  {
   "cell_type": "code",
   "execution_count": 1,
   "metadata": {},
   "outputs": [],
   "source": [
    "class Node:\n",
    "    def __init__(self, left=None, right=None):\n",
    "        self.left = left\n",
    "        self.right = right\n",
    "        self.intervals = []"
   ]
  },
  {
   "cell_type": "code",
   "execution_count": 58,
   "metadata": {},
   "outputs": [],
   "source": [
    "def insertInterval(seg_tree, endpoints, l, r, i, start, end, interval):\n",
    "    if start <= endpoints[l] and endpoints[r] <= end:\n",
    "        seg_tree[i].append(interval)\n",
    "        return\n",
    "    if endpoints[l] > end or endpoints[r] < start:\n",
    "        return\n",
    "    \n",
    "    m = (l+r-1)//2\n",
    "    insertInterval(seg_tree, endpoints, l, m, 2*i+1, start, end, interval)\n",
    "    insertInterval(seg_tree, endpoints, m+1, r, 2*i+2, start, end, interval)\n",
    "\n",
    "def constructIntervalTree(intervals):\n",
    "    endpoints = set()\n",
    "    for start, end in intervals:\n",
    "        endpoints.add(start)\n",
    "        endpoints.add(end)\n",
    "\n",
    "    endpoints = sorted(endpoints)\n",
    "    max_size = 2*2**int(math.ceil(math.log2(len(endpoints))))-1\n",
    "\n",
    "    seg_tree = [[] for _ in range(max_size)]\n",
    "    for i, (start, end) in enumerate(intervals):\n",
    "        insertInterval(seg_tree, endpoints, 0, len(endpoints)-1, 0, start, end, i)\n",
    "        \n",
    "    return seg_tree, endpoints\n",
    "\n",
    "def getIntersectUtil(seg_tree, endpoints, l,r, i, val):\n",
    "    if val < endpoints[l] or val > endpoints[r]:\n",
    "        return 0\n",
    "    if l == r:\n",
    "        return len(seg_tree[i])\n",
    "    \n",
    "    result = len(seg_tree[i])\n",
    "    m = (l+r-1)//2\n",
    "    return result + getIntersectUtil(seg_tree, endpoints, l, m, 2*i+1, val) + \\\n",
    "        getIntersectUtil(seg_tree, endpoints, m+1, r, 2*i+2, val)\n",
    "\n",
    "def getIntersect(seg_tree, endpoints, val):\n",
    "    return getIntersectUtil(seg_tree, endpoints, 0, len(endpoints)-1, 0, val)"
   ]
  },
  {
   "cell_type": "code",
   "execution_count": 59,
   "metadata": {},
   "outputs": [],
   "source": [
    "# intervals = [(i, i+randint(1,10)) for i in range(0, 10, 2)]\n",
    "intervals = [(0,3), (2,4), (4,8), (6,10), (8,12)]"
   ]
  },
  {
   "cell_type": "code",
   "execution_count": 60,
   "metadata": {},
   "outputs": [
    {
     "data": {
      "text/plain": [
       "[(0, 3), (2, 4), (4, 8), (6, 10), (8, 12)]"
      ]
     },
     "execution_count": 60,
     "metadata": {},
     "output_type": "execute_result"
    }
   ],
   "source": [
    "intervals"
   ]
  },
  {
   "cell_type": "code",
   "execution_count": 61,
   "metadata": {},
   "outputs": [],
   "source": [
    "interval_tree, endpoints = constructIntervalTree(intervals)"
   ]
  },
  {
   "cell_type": "code",
   "execution_count": 62,
   "metadata": {},
   "outputs": [
    {
     "data": {
      "text/plain": [
       "[0, 2, 3, 4, 6, 8, 10, 12]"
      ]
     },
     "execution_count": 62,
     "metadata": {},
     "output_type": "execute_result"
    }
   ],
   "source": [
    "endpoints"
   ]
  },
  {
   "cell_type": "code",
   "execution_count": 63,
   "metadata": {},
   "outputs": [
    {
     "data": {
      "text/plain": [
       "[[], [], [], [0], [1], [2, 3], [4], [], [1], [0], [2], [], [4], [3], []]"
      ]
     },
     "execution_count": 63,
     "metadata": {},
     "output_type": "execute_result"
    }
   ],
   "source": [
    "interval_tree"
   ]
  },
  {
   "cell_type": "code",
   "execution_count": 65,
   "metadata": {},
   "outputs": [
    {
     "data": {
      "text/plain": [
       "3"
      ]
     },
     "execution_count": 65,
     "metadata": {},
     "output_type": "execute_result"
    }
   ],
   "source": [
    "getIntersect(interval_tree, endpoints, 8)"
   ]
  },
  {
   "cell_type": "code",
   "execution_count": null,
   "metadata": {},
   "outputs": [],
   "source": []
  }
 ],
 "metadata": {
  "kernelspec": {
   "display_name": "Python 3",
   "language": "python",
   "name": "python3"
  },
  "language_info": {
   "codemirror_mode": {
    "name": "ipython",
    "version": 3
   },
   "file_extension": ".py",
   "mimetype": "text/x-python",
   "name": "python",
   "nbconvert_exporter": "python",
   "pygments_lexer": "ipython3",
   "version": "3.8.3"
  }
 },
 "nbformat": 4,
 "nbformat_minor": 4
}
