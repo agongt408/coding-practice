{
 "cells": [
  {
   "cell_type": "code",
   "execution_count": 2,
   "metadata": {},
   "outputs": [],
   "source": [
    "\"\"\"\n",
    "Input: s\n",
    "Problem: compress string, replace repeated character sequence with number \n",
    "If compressed string does not save space, then return original\n",
    "Case insensitive\n",
    "\n",
    "Example 1:\n",
    "aabcccccaaa would become a2b1c5a3\n",
    "\n",
    "Approach 1:\n",
    "1. Initialize array of to store compressed blocks (e.g., 'a2', 'b1')\n",
    "2. iterate through characters\n",
    "    If encounter new character, start inner while loop to find the end of the block \n",
    "3. Merge compressed blocks\n",
    "4. If length of result is >= length of s, return s, otherwise return result\n",
    "\n",
    "Time: O(n)\n",
    "Space: O(n)\n",
    "\"\"\"\n",
    "\n",
    "def compress(s):\n",
    "    result = []\n",
    "    l, r = 0, 0 # r=0 or 1\n",
    "    while r < len(s):\n",
    "        # Inner while loop\n",
    "        while r < len(s) and s[r] == s[l]:\n",
    "            r += 1\n",
    "        block_len = r-l\n",
    "        result.append(s[l] + str(block_len))\n",
    "        \n",
    "        l = r\n",
    "    \n",
    "    compressed_str = ''.join(result)\n",
    "    return compressed_str if len(compressed_str) < len(s) else s\n",
    "\n",
    "\n",
    "def compress2(s):\n",
    "    buffer = []\n",
    "    "
   ]
  },
  {
   "cell_type": "code",
   "execution_count": 3,
   "metadata": {},
   "outputs": [
    {
     "data": {
      "text/plain": [
       "'a2b1c5a3'"
      ]
     },
     "execution_count": 3,
     "metadata": {},
     "output_type": "execute_result"
    }
   ],
   "source": [
    "compress('aabcccccaaa')"
   ]
  },
  {
   "cell_type": "code",
   "execution_count": 4,
   "metadata": {},
   "outputs": [
    {
     "data": {
      "text/plain": [
       "'a6'"
      ]
     },
     "execution_count": 4,
     "metadata": {},
     "output_type": "execute_result"
    }
   ],
   "source": [
    "compress('aaaaaa')"
   ]
  },
  {
   "cell_type": "code",
   "execution_count": 5,
   "metadata": {},
   "outputs": [
    {
     "data": {
      "text/plain": [
       "'a6b5'"
      ]
     },
     "execution_count": 5,
     "metadata": {},
     "output_type": "execute_result"
    }
   ],
   "source": [
    "compress('aaaaaabbbbb')"
   ]
  },
  {
   "cell_type": "code",
   "execution_count": 6,
   "metadata": {},
   "outputs": [
    {
     "data": {
      "text/plain": [
       "'abc'"
      ]
     },
     "execution_count": 6,
     "metadata": {},
     "output_type": "execute_result"
    }
   ],
   "source": [
    "compress('abc')"
   ]
  },
  {
   "cell_type": "code",
   "execution_count": null,
   "metadata": {},
   "outputs": [],
   "source": []
  }
 ],
 "metadata": {
  "kernelspec": {
   "display_name": "Python 3",
   "language": "python",
   "name": "python3"
  },
  "language_info": {
   "codemirror_mode": {
    "name": "ipython",
    "version": 3
   },
   "file_extension": ".py",
   "mimetype": "text/x-python",
   "name": "python",
   "nbconvert_exporter": "python",
   "pygments_lexer": "ipython3",
   "version": "3.8.3"
  }
 },
 "nbformat": 4,
 "nbformat_minor": 4
}
