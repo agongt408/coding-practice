{
 "cells": [
  {
   "cell_type": "code",
   "execution_count": 3,
   "metadata": {},
   "outputs": [],
   "source": [
    "from random import shuffle, randint\n",
    "import math\n",
    "from queue import Queue"
   ]
  },
  {
   "cell_type": "code",
   "execution_count": 4,
   "metadata": {},
   "outputs": [],
   "source": [
    "class Node:\n",
    "    def __init__(self, left=None, right=None):\n",
    "        self.left = left\n",
    "        self.right = right\n",
    "        self.intervals = []"
   ]
  },
  {
   "cell_type": "markdown",
   "metadata": {},
   "source": [
    "# Get Sum"
   ]
  },
  {
   "cell_type": "code",
   "execution_count": 5,
   "metadata": {},
   "outputs": [],
   "source": [
    "arr = [randint(1, 5) for _ in range(16)]"
   ]
  },
  {
   "cell_type": "code",
   "execution_count": 6,
   "metadata": {},
   "outputs": [],
   "source": [
    "def constructTreeUtil(arr, seg_tree, start, end, i):\n",
    "    if start == end:\n",
    "        seg_tree[i] = arr[start]\n",
    "        return seg_tree[i]\n",
    "    \n",
    "    m = (start + end) // 2\n",
    "    seg_tree[i] = constructTreeUtil(arr, seg_tree, start, m, 2*i+1) + \\\n",
    "             constructTreeUtil(arr, seg_tree, m+1, end, 2*i+2)\n",
    "    return seg_tree[i]\n",
    "\n",
    "def constructTree(arr):\n",
    "    max_size = 2*2**int(math.ceil(math.log2(len(arr))))-1\n",
    "#     print(max_size)\n",
    "    \n",
    "    seg_tree = ['#' for _ in range(max_size)]\n",
    "    constructTreeUtil(arr, seg_tree, 0, len(arr)-1, 0)\n",
    "    return seg_tree\n",
    "\n",
    "def getSumUtil(seg_tree, l, r, start, end, i):\n",
    "    if start<= l and r<=end:\n",
    "        return seg_tree[i]\n",
    "    if l > end or r < start:\n",
    "        return 0\n",
    "    m = (l+r) // 2\n",
    "    return getSumUtil(seg_tree, l, m, start, end, 2*i+1) + \\\n",
    "        getSumUtil(seg_tree, m+1, r, start, end, 2*i+2)\n",
    "\n",
    "def getSum(seg_tree, n, start, end):\n",
    "    return getSumUtil(seg_tree, 0, n-1, start, end, 0)"
   ]
  },
  {
   "cell_type": "code",
   "execution_count": 7,
   "metadata": {},
   "outputs": [],
   "source": [
    "seg_tree = constructTree(arr)"
   ]
  },
  {
   "cell_type": "code",
   "execution_count": 8,
   "metadata": {},
   "outputs": [
    {
     "data": {
      "text/plain": [
       "7"
      ]
     },
     "execution_count": 8,
     "metadata": {},
     "output_type": "execute_result"
    }
   ],
   "source": [
    "getSum(seg_tree, len(arr), 2, 4)"
   ]
  },
  {
   "cell_type": "code",
   "execution_count": 9,
   "metadata": {},
   "outputs": [],
   "source": [
    "def printSegTreeLevels(seg_tree):\n",
    "    q = Queue()\n",
    "    q.put(0)\n",
    "    result = []\n",
    "    \n",
    "    while not q.empty():\n",
    "        n = q.qsize()\n",
    "        tmp = []\n",
    "        for _ in range(n):\n",
    "            i = q.get()\n",
    "            tmp.append(seg_tree[i])\n",
    "            \n",
    "            if 2*i+1 < len(seg_tree):\n",
    "                q.put(2*i+1)\n",
    "            if 2*i+2 < len(seg_tree):\n",
    "                q.put(2*i+2)\n",
    "        result.append(tmp)\n",
    "        \n",
    "    return result"
   ]
  },
  {
   "cell_type": "code",
   "execution_count": 10,
   "metadata": {},
   "outputs": [
    {
     "data": {
      "text/plain": [
       "[[39],\n",
       " [18, 21],\n",
       " [11, 7, 11, 10],\n",
       " [6, 5, 4, 3, 5, 6, 4, 6],\n",
       " [2, 4, 3, 2, 2, 2, 2, 1, 4, 1, 4, 2, 3, 1, 2, 4]]"
      ]
     },
     "execution_count": 10,
     "metadata": {},
     "output_type": "execute_result"
    }
   ],
   "source": [
    "printSegTreeLevels(seg_tree)"
   ]
  },
  {
   "cell_type": "markdown",
   "metadata": {},
   "source": [
    "# Get Interval"
   ]
  },
  {
   "cell_type": "code",
   "execution_count": 58,
   "metadata": {},
   "outputs": [],
   "source": [
    "def insertInterval(seg_tree, endpoints, l, r, i, start, end, interval):\n",
    "    if start <= endpoints[l] and endpoints[r] <= end:\n",
    "        seg_tree[i].append(interval)\n",
    "        return\n",
    "    if endpoints[l] > end or endpoints[r] < start:\n",
    "        return\n",
    "    \n",
    "    m = (l+r-1)//2\n",
    "    insertInterval(seg_tree, endpoints, l, m, 2*i+1, start, end, interval)\n",
    "    insertInterval(seg_tree, endpoints, m+1, r, 2*i+2, start, end, interval)\n",
    "\n",
    "def constructIntervalTree(intervals):\n",
    "    endpoints = set()\n",
    "    for start, end in intervals:\n",
    "        endpoints.add(start)\n",
    "        endpoints.add(end)\n",
    "\n",
    "    endpoints = sorted(endpoints)\n",
    "    max_size = 2*2**int(math.ceil(math.log2(len(endpoints))))-1\n",
    "\n",
    "    seg_tree = [[] for _ in range(max_size)]\n",
    "    for i, (start, end) in enumerate(intervals):\n",
    "        insertInterval(seg_tree, endpoints, 0, len(endpoints)-1, 0, start, end, i)\n",
    "        \n",
    "    return seg_tree, endpoints\n",
    "\n",
    "def getIntersectUtil(seg_tree, endpoints, l,r, i, val):\n",
    "    if val < endpoints[l] or val > endpoints[r]:\n",
    "        return 0\n",
    "    if l == r:\n",
    "        return len(seg_tree[i])\n",
    "    \n",
    "    result = len(seg_tree[i])\n",
    "    m = (l+r-1)//2\n",
    "    return result + getIntersectUtil(seg_tree, endpoints, l, m, 2*i+1, val) + \\\n",
    "        getIntersectUtil(seg_tree, endpoints, m+1, r, 2*i+2, val)\n",
    "\n",
    "def getIntersect(seg_tree, endpoints, val):\n",
    "    return getIntersectUtil(seg_tree, endpoints, 0, len(endpoints)-1, 0, val)"
   ]
  },
  {
   "cell_type": "code",
   "execution_count": 59,
   "metadata": {},
   "outputs": [],
   "source": [
    "# intervals = [(i, i+randint(1,10)) for i in range(0, 10, 2)]\n",
    "intervals = [(0,3), (2,4), (4,8), (6,10), (8,12)]"
   ]
  },
  {
   "cell_type": "code",
   "execution_count": 60,
   "metadata": {},
   "outputs": [
    {
     "data": {
      "text/plain": [
       "[(0, 3), (2, 4), (4, 8), (6, 10), (8, 12)]"
      ]
     },
     "execution_count": 60,
     "metadata": {},
     "output_type": "execute_result"
    }
   ],
   "source": [
    "intervals"
   ]
  },
  {
   "cell_type": "code",
   "execution_count": 61,
   "metadata": {},
   "outputs": [],
   "source": [
    "interval_tree, endpoints = constructIntervalTree(intervals)"
   ]
  },
  {
   "cell_type": "code",
   "execution_count": 62,
   "metadata": {},
   "outputs": [
    {
     "data": {
      "text/plain": [
       "[0, 2, 3, 4, 6, 8, 10, 12]"
      ]
     },
     "execution_count": 62,
     "metadata": {},
     "output_type": "execute_result"
    }
   ],
   "source": [
    "endpoints"
   ]
  },
  {
   "cell_type": "code",
   "execution_count": 63,
   "metadata": {},
   "outputs": [
    {
     "data": {
      "text/plain": [
       "[[], [], [], [0], [1], [2, 3], [4], [], [1], [0], [2], [], [4], [3], []]"
      ]
     },
     "execution_count": 63,
     "metadata": {},
     "output_type": "execute_result"
    }
   ],
   "source": [
    "interval_tree"
   ]
  },
  {
   "cell_type": "code",
   "execution_count": 65,
   "metadata": {},
   "outputs": [
    {
     "data": {
      "text/plain": [
       "3"
      ]
     },
     "execution_count": 65,
     "metadata": {},
     "output_type": "execute_result"
    }
   ],
   "source": [
    "getIntersect(interval_tree, endpoints, 8)"
   ]
  },
  {
   "cell_type": "code",
   "execution_count": null,
   "metadata": {},
   "outputs": [],
   "source": []
  }
 ],
 "metadata": {
  "kernelspec": {
   "display_name": "Python 3",
   "language": "python",
   "name": "python3"
  },
  "language_info": {
   "codemirror_mode": {
    "name": "ipython",
    "version": 3
   },
   "file_extension": ".py",
   "mimetype": "text/x-python",
   "name": "python",
   "nbconvert_exporter": "python",
   "pygments_lexer": "ipython3",
   "version": "3.8.3"
  }
 },
 "nbformat": 4,
 "nbformat_minor": 4
}
